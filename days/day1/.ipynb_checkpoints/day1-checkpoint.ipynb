{
 "cells": [
  {
   "cell_type": "markdown",
   "id": "594a5d26-0345-4948-b314-7edfb84b4cf4",
   "metadata": {},
   "source": [
    "For example:\n",
    "```\n",
    "3   4\n",
    "4   3\n",
    "2   5\n",
    "1   3\n",
    "3   9\n",
    "3   3\n",
    "```\n",
    "Maybe the lists are only off by a small amount! To find out, pair up the numbers and measure how far apart they are. Pair up the smallest number in the left list with the smallest number in the right list, then the second-smallest left number with the second-smallest right number, and so on.\n",
    "\n",
    "Within each pair, figure out how far apart the two numbers are; you'll need to add up all of those distances. For example, if you pair up a 3 from the left list with a 7 from the right list, the distance apart is 4; if you pair up a 9 with a 3, the distance apart is 6.\n",
    "\n",
    "In the example list above, the pairs and distances would be as follows:\n",
    "\n",
    "The smallest number in the left list is 1, and the smallest number in the right list is 3. The distance between them is 2.\n",
    "The second-smallest number in the left list is 2, and the second-smallest number in the right list is another 3. The distance between them is 1.\n",
    "The third-smallest number in both lists is 3, so the distance between them is 0.\n",
    "The next numbers to pair up are 3 and 4, a distance of 1.\n",
    "The fifth-smallest numbers in each list are 3 and 5, a distance of 2.\n",
    "Finally, the largest number in the left list is 4, while the largest number in the right list is 9; these are a distance 5 apart.\n",
    "To find the total distance between the left list and the right list, add up the distances between all of the pairs you found. In the example above, this is 2 + 1 + 0 + 1 + 2 + 5, a total distance of 11!"
   ]
  },
  {
   "cell_type": "code",
   "execution_count": 20,
   "id": "65475856-f8c8-49dc-8705-363141112153",
   "metadata": {},
   "outputs": [],
   "source": [
    "import math\n",
    "import numpy as np"
   ]
  },
  {
   "cell_type": "code",
   "execution_count": 27,
   "id": "dd640dc9-5f86-4f5a-9cc3-1b06ae83295c",
   "metadata": {},
   "outputs": [],
   "source": [
    "with open(\"input.txt\", 'r') as f:\n",
    "    file = f.read()\n",
    "    data = file.splitlines()\n",
    "\n",
    "c1,c2 = [],[]\n",
    "for line in data:\n",
    "    left_c, right_c = map(int, line.split())\n",
    "    c1.append(left_c)\n",
    "    c2.append(right_c)\n",
    "\n",
    "assert len(c1) == len(c2)"
   ]
  },
  {
   "cell_type": "code",
   "execution_count": 53,
   "id": "80533b6c-2155-4199-95cb-50edb080c5c6",
   "metadata": {},
   "outputs": [
    {
     "data": {
      "text/plain": [
       "1889772"
      ]
     },
     "execution_count": 53,
     "metadata": {},
     "output_type": "execute_result"
    }
   ],
   "source": [
    "c1,c2 = sorted(c1),sorted(c2)\n",
    "total_distance = sum(abs(l-r) for l,r in zip(c1,c2))\n",
    "total_distance # That's the right answer!"
   ]
  },
  {
   "cell_type": "markdown",
   "id": "b76773ca-d6a0-4414-ac29-5ae8fda7c445",
   "metadata": {},
   "source": [
    "--- Part Two ---\n",
    "\n",
    "Here are the same example lists again:\n",
    "```\n",
    "3   4\n",
    "4   3\n",
    "2   5\n",
    "1   3\n",
    "3   9\n",
    "3   3\n",
    "```\n",
    "For these example lists, here is the process of finding the similarity score:\n",
    "\n",
    "The first number in the left list is 3. It appears in the right list three times, so the similarity score increases by 3 * 3 = 9.\n",
    "The second number in the left list is 4. It appears in the right list once, so the similarity score increases by 4 * 1 = 4.\n",
    "The third number in the left list is 2. It does not appear in the right list, so the similarity score does not increase (2 * 0 = 0).\n",
    "The fourth number, 1, also does not appear in the right list.\n",
    "The fifth number, 3, appears in the right list three times; the similarity score increases by 9.\n",
    "The last number, 3, appears in the right list three times; the similarity score again increases by 9.\n",
    "So, for these example lists, the similarity score at the end of this process is 31 (9 + 4 + 0 + 0 + 9 + 9).\n"
   ]
  },
  {
   "cell_type": "code",
   "execution_count": 54,
   "id": "f971c2a9-21f0-44af-bc45-29712181e5c4",
   "metadata": {},
   "outputs": [],
   "source": [
    "uniq = np.unique(c1)"
   ]
  },
  {
   "cell_type": "code",
   "execution_count": 55,
   "id": "4fbd5f2d-194f-4c6b-9d86-ade39030aee4",
   "metadata": {},
   "outputs": [],
   "source": [
    "dict = {u : 0 for u in uniq}\n",
    "for value in c2:\n",
    "    if value in c1:\n",
    "        dict[value] +=1"
   ]
  },
  {
   "cell_type": "code",
   "execution_count": 56,
   "id": "39d50972-501c-4226-9a28-24343ae3a74a",
   "metadata": {},
   "outputs": [
    {
     "data": {
      "text/plain": [
       "23228917"
      ]
     },
     "execution_count": 56,
     "metadata": {},
     "output_type": "execute_result"
    }
   ],
   "source": [
    "similarity_score = sum((l*dict[l]) for l in c1)\n",
    "similarity_score # That's the right answer!"
   ]
  },
  {
   "cell_type": "code",
   "execution_count": null,
   "id": "67476fc5-a4cb-4b8d-aa24-3d0c60ed7f64",
   "metadata": {},
   "outputs": [],
   "source": []
  }
 ],
 "metadata": {
  "kernelspec": {
   "display_name": "Python 3 (ipykernel)",
   "language": "python",
   "name": "python3"
  },
  "language_info": {
   "codemirror_mode": {
    "name": "ipython",
    "version": 3
   },
   "file_extension": ".py",
   "mimetype": "text/x-python",
   "name": "python",
   "nbconvert_exporter": "python",
   "pygments_lexer": "ipython3",
   "version": "3.11.5"
  }
 },
 "nbformat": 4,
 "nbformat_minor": 5
}
