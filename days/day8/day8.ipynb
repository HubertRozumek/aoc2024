{
 "cells": [
  {
   "cell_type": "markdown",
   "id": "a41e4acb-7e33-4702-83c0-d8b6a8c0642d",
   "metadata": {},
   "source": [
    "--- Day 8: Resonant Collinearity ---\n",
    "\n",
    "You find yourselves on the roof of a top-secret Easter Bunny installation.\n",
    "\n",
    "While The Historians do their thing, you take a look at the familiar huge antenna. Much to your surprise, it seems to have been reconfigured to emit a signal that makes people 0.1% more likely to buy Easter Bunny brand Imitation Mediocre Chocolate as a Christmas gift! Unthinkable!\n",
    "\n",
    "Scanning across the city, you find that there are actually many such antennas. Each antenna is tuned to a specific frequency indicated by a single lowercase letter, uppercase letter, or digit. You create a map (your puzzle input) of these antennas. For example:\n",
    "```\n",
    "............\n",
    "........0...\n",
    ".....0......\n",
    ".......0....\n",
    "....0.......\n",
    "......A.....\n",
    "............\n",
    "............\n",
    "........A...\n",
    ".........A..\n",
    "............\n",
    "............\n",
    "```\n",
    "The signal only applies its nefarious effect at specific antinodes based on the resonant frequencies of the antennas. In particular, an antinode occurs at any point that is perfectly in line with two antennas of the same frequency - but only when one of the antennas is twice as far away as the other. This means that for any pair of antennas with the same frequency, there are two antinodes, one on either side of them.\n",
    "\n",
    "So, for these two antennas with frequency a, they create the two antinodes marked with #:\n",
    "```\n",
    "..........\n",
    "...#......\n",
    "..........\n",
    "....a.....\n",
    "..........\n",
    ".....a....\n",
    "..........\n",
    "......#...\n",
    "..........\n",
    "..........\n",
    "```\n",
    "Adding a third antenna with the same frequency creates several more antinodes. It would ideally add four antinodes, but two are off the right side of the map, so instead it adds only two:\n",
    "```\n",
    "..........\n",
    "...#......\n",
    "#.........\n",
    "....a.....\n",
    "........a.\n",
    ".....a....\n",
    "..#.......\n",
    "......#...\n",
    "..........\n",
    "..........\n",
    "```\n",
    "Antennas with different frequencies don't create antinodes; A and a count as different frequencies. However, antinodes can occur at locations that contain antennas. In this diagram, the lone antenna with frequency capital A creates no antinodes but has a lowercase-a-frequency antinode at its location:\n",
    "```\n",
    "..........\n",
    "...#......\n",
    "#.........\n",
    "....a.....\n",
    "........a.\n",
    ".....a....\n",
    "..#.......\n",
    "......A...\n",
    "..........\n",
    "..........\n",
    "```\n",
    "The first example has antennas with two different frequencies, so the antinodes they create look like this, plus an antinode overlapping the topmost A-frequency antenna:\n",
    "```\n",
    "......#....#\n",
    "...#....0...\n",
    "....#0....#.\n",
    "..#....0....\n",
    "....0....#..\n",
    ".#....A.....\n",
    "...#........\n",
    "#......#....\n",
    "........A...\n",
    ".........A..\n",
    "..........#.\n",
    "..........#.\n",
    "```\n",
    "Because the topmost A-frequency antenna overlaps with a 0-frequency antinode, there are 14 total unique locations that contain an antinode within the bounds of the map.\n",
    "\n",
    "Calculate the impact of the signal. How many unique locations within the bounds of the map contain an antinode?"
   ]
  },
  {
   "cell_type": "code",
   "execution_count": 1,
   "id": "83f8d372-0730-4a3d-87e2-6fd9b5d0daaf",
   "metadata": {},
   "outputs": [],
   "source": [
    "import numpy as np\n",
    "from collections import defaultdict"
   ]
  },
  {
   "cell_type": "code",
   "execution_count": 2,
   "id": "4a252668-4c52-4a49-836c-494daaa6b80f",
   "metadata": {},
   "outputs": [],
   "source": [
    "with open('input.txt', 'r') as f:\n",
    "    \n",
    "    file = f.read().splitlines()\n",
    "\n",
    "data = np.array([[i for i in line] for line in file])"
   ]
  },
  {
   "cell_type": "code",
   "execution_count": 3,
   "id": "33b2d5cc-0f4f-4946-a07d-5d40c80abe21",
   "metadata": {},
   "outputs": [],
   "source": [
    "def get_positions(data):\n",
    "    \n",
    "    positions = defaultdict(list)\n",
    "    \n",
    "    for i in range(data.shape[0]):\n",
    "        for j in range(data.shape[1]):\n",
    "            if data[i, j] != '.':\n",
    "                positions[data[i, j]].append((i, j))\n",
    "                \n",
    "    return positions"
   ]
  },
  {
   "cell_type": "code",
   "execution_count": 4,
   "id": "43f2f7f4-fc7b-4561-acc5-836264c1e501",
   "metadata": {},
   "outputs": [],
   "source": [
    "def find_antinodes(position, data_shape):\n",
    "    \n",
    "    antinodes = set()\n",
    "    \n",
    "    for i in range(len(position)):\n",
    "        for j in range(i + 1, len(position)):\n",
    "            \n",
    "            a1 = tuple(position[i])\n",
    "            a2 = tuple(position[j])\n",
    "\n",
    "            vec = (a2[0] - a1[0], a2[1] - a1[1])\n",
    "            \n",
    "            ant1 = (a2[0] + vec[0], a2[1] + vec[1])\n",
    "            ant2 = (a1[0] - vec[0], a1[1] - vec[1])\n",
    "            \n",
    "            if 0 <= ant1[0] < data_shape[0] and 0 <= ant1[1] < data_shape[1]:\n",
    "                antinodes.add(ant1)\n",
    "                \n",
    "            if 0 <= ant2[0] < data_shape[0] and 0 <= ant2[1] < data_shape[1]:\n",
    "                antinodes.add(ant2)\n",
    "                \n",
    "    return antinodes"
   ]
  },
  {
   "cell_type": "code",
   "execution_count": 5,
   "id": "2e6d4199-5347-401d-811e-0dfb39b51f18",
   "metadata": {},
   "outputs": [],
   "source": [
    "positions = get_positions(data)\n",
    "all_antinodes = set()\n",
    "\n",
    "for antenna, position in positions.items():\n",
    "    \n",
    "    antinodes = find_antinodes(position, data.shape)\n",
    "    all_antinodes.update(antinodes)"
   ]
  },
  {
   "cell_type": "code",
   "execution_count": 6,
   "id": "1dfe1deb-09f8-44b6-b40e-b1c217cfa166",
   "metadata": {},
   "outputs": [
    {
     "data": {
      "text/plain": [
       "364"
      ]
     },
     "execution_count": 6,
     "metadata": {},
     "output_type": "execute_result"
    }
   ],
   "source": [
    "len(all_antinodes)"
   ]
  },
  {
   "cell_type": "markdown",
   "id": "c3b448cd-2274-4cc7-964a-f0c3e32dc733",
   "metadata": {},
   "source": [
    "That's the right answer! You are one gold star closer to finding the Chief Historian."
   ]
  },
  {
   "cell_type": "markdown",
   "id": "ca1d7118-1990-4f09-ac25-9774fdf76e24",
   "metadata": {},
   "source": [
    "--- Part Two ---\n",
    "    \n",
    "Watching over your shoulder as you work, one of The Historians asks if you took the effects of resonant harmonics into your calculations.\n",
    "\n",
    "Whoops!\n",
    "\n",
    "After updating your model, it turns out that an antinode occurs at any grid position exactly in line with at least two antennas of the same frequency, regardless of distance. This means that some of the new antinodes will occur at the position of each antenna (unless that antenna is the only one of its frequency).\n",
    "\n",
    "So, these three T-frequency antennas now create many antinodes:\n",
    "```\n",
    "T....#....\n",
    "...T......\n",
    ".T....#...\n",
    ".........#\n",
    "..#.......\n",
    "..........\n",
    "...#......\n",
    "..........\n",
    "....#.....\n",
    "..........\n",
    "```\n",
    "In fact, the three T-frequency antennas are all exactly in line with two antennas, so they are all also antinodes! This brings the total number of antinodes in the above example to 9.\n",
    "\n",
    "The original example now has 34 antinodes, including the antinodes that appear on every antenna:\n",
    "```\n",
    "##....#....#\n",
    ".#.#....0...\n",
    "..#.#0....#.\n",
    "..##...0....\n",
    "....0....#..\n",
    ".#...#A....#\n",
    "...#..#.....\n",
    "#....#.#....\n",
    "..#.....A...\n",
    "....#....A..\n",
    ".#........#.\n",
    "...#......##\n",
    "```\n",
    "Calculate the impact of the signal using this updated model. How many unique locations within the bounds of the map contain an antinode?"
   ]
  },
  {
   "cell_type": "code",
   "execution_count": 7,
   "id": "fee1b613-b65c-4333-b078-191e5eac17c5",
   "metadata": {},
   "outputs": [],
   "source": [
    "def find_antinodes_with_resonance(position, data_shape):\n",
    "    \n",
    "    antinodes = set()\n",
    "    \n",
    "    for i in range(len(position)):\n",
    "        for j in range(i + 1, len(position)):\n",
    "            \n",
    "            a1 = tuple(position[i])\n",
    "            a2 = tuple(position[j])\n",
    "\n",
    "            vec = (a2[0] - a1[0], a2[1] - a1[1])\n",
    "            \n",
    "            ant1 = (a2[0] + vec[0], a2[1] + vec[1])\n",
    "            ant2 = (a1[0] - vec[0], a1[1] - vec[1])\n",
    "\n",
    "            step = np.gcd(vec[0], vec[1])\n",
    "            unit_vec = (vec[0] // step, vec[1] // step)\n",
    "            \n",
    "            temp = a2\n",
    "            while 0 <= temp[0] < data_shape[0] and 0 <= temp[1] < data_shape[1]:\n",
    "                antinodes.add(temp)\n",
    "                temp = (temp[0] + unit_vec[0], temp[1] + unit_vec[1])\n",
    "\n",
    "            temp = a1\n",
    "            while 0 <= temp[0] < data_shape[0] and 0 <= temp[1] < data_shape[1]:\n",
    "                antinodes.add(temp)\n",
    "                temp = (temp[0] - unit_vec[0], temp[1] - unit_vec[1])\n",
    "\n",
    "    return antinodes"
   ]
  },
  {
   "cell_type": "code",
   "execution_count": 8,
   "id": "49895334-b56a-4386-93b1-909fdbd1820e",
   "metadata": {},
   "outputs": [],
   "source": [
    "all_antinodes_part_two = set()\n",
    "\n",
    "for freq, pos in positions.items():\n",
    "    freq_antinodes = find_antinodes_with_resonance(pos, data.shape)\n",
    "    all_antinodes_part_two.update(freq_antinodes)"
   ]
  },
  {
   "cell_type": "code",
   "execution_count": 9,
   "id": "70a4ea1f-be4b-4565-89ff-00fc5f38878a",
   "metadata": {},
   "outputs": [
    {
     "data": {
      "text/plain": [
       "1231"
      ]
     },
     "execution_count": 9,
     "metadata": {},
     "output_type": "execute_result"
    }
   ],
   "source": [
    "len(all_antinodes_part_two)"
   ]
  },
  {
   "cell_type": "markdown",
   "id": "9278ce35-af34-454b-b647-8787dc6e0ebb",
   "metadata": {},
   "source": [
    "That's the right answer! You are one gold star closer to finding the Chief Historian."
   ]
  }
 ],
 "metadata": {
  "kernelspec": {
   "display_name": "Python 3 (ipykernel)",
   "language": "python",
   "name": "python3"
  },
  "language_info": {
   "codemirror_mode": {
    "name": "ipython",
    "version": 3
   },
   "file_extension": ".py",
   "mimetype": "text/x-python",
   "name": "python",
   "nbconvert_exporter": "python",
   "pygments_lexer": "ipython3",
   "version": "3.11.5"
  }
 },
 "nbformat": 4,
 "nbformat_minor": 5
}
