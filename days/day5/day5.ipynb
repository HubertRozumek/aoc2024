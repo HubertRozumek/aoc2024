{
 "cells": [
  {
   "cell_type": "markdown",
   "id": "2c7c6ee7-4c4d-4d2c-97ba-d76e8e570196",
   "metadata": {},
   "source": [
    "--- Day 5: Print Queue ---\n",
    "\n",
    "Satisfied with their search on Ceres, the squadron of scholars suggests subsequently scanning the stationery stacks of sub-basement 17.\n",
    "\n",
    "The North Pole printing department is busier than ever this close to Christmas, and while The Historians continue their search of this historically significant facility, an Elf operating a very familiar printer beckons you over.\n",
    "\n",
    "The Elf must recognize you, because they waste no time explaining that the new sleigh launch safety manual updates won't print correctly. Failure to update the safety manuals would be dire indeed, so you offer your services.\n",
    "\n",
    "Safety protocols clearly indicate that new pages for the safety manuals must be printed in a very specific order. The notation X|Y means that if both page number X and page number Y are to be produced as part of an update, page number X must be printed at some point before page number Y.\n",
    "\n",
    "The Elf has for you both the page ordering rules and the pages to produce in each update (your puzzle input), but can't figure out whether each update has the pages in the right order.\n",
    "\n",
    "For example:\n",
    "```\n",
    "47|53\n",
    "97|13\n",
    "97|61\n",
    "97|47\n",
    "75|29\n",
    "61|13\n",
    "75|53\n",
    "29|13\n",
    "97|29\n",
    "53|29\n",
    "61|53\n",
    "97|53\n",
    "61|29\n",
    "47|13\n",
    "75|47\n",
    "97|75\n",
    "47|61\n",
    "75|61\n",
    "47|29\n",
    "75|13\n",
    "53|13\n",
    "\n",
    "75,47,61,53,29\n",
    "97,61,53,29,13\n",
    "75,29,13\n",
    "75,97,47,61,53\n",
    "61,13,29\n",
    "97,13,75,29,47\n",
    "```\n",
    "The first section specifies the page ordering rules, one per line. The first rule, 47|53, means that if an update includes both page number 47 and page number 53, then page number 47 must be printed at some point before page number 53. (47 doesn't necessarily need to be immediately before 53; other pages are allowed to be between them.)\n",
    "\n",
    "The second section specifies the page numbers of each update. Because most safety manuals are different, the pages needed in the updates are different too. The first update, 75,47,61,53,29, means that the update consists of page numbers 75, 47, 61, 53, and 29.\n",
    "\n",
    "To get the printers going as soon as possible, start by identifying which updates are already in the right order.\n",
    "\n",
    "In the above example, the first update (75,47,61,53,29) is in the right order:\n",
    "```\n",
    "75 is correctly first because there are rules that put each other page after it: 75|47, 75|61, 75|53, and 75|29.\n",
    "47 is correctly second because 75 must be before it (75|47) and every other page must be after it according to 47|61, 47|53, and 47|29.\n",
    "61 is correctly in the middle because 75 and 47 are before it (75|61 and 47|61) and 53 and 29 are after it (61|53 and 61|29).\n",
    "53 is correctly fourth because it is before page number 29 (53|29).\n",
    "29 is the only page left and so is correctly last.\n",
    "Because the first update does not include some page numbers, the ordering rules involving those missing page numbers are ignored.\n",
    "```\n",
    "The second and third updates are also in the correct order according to the rules. Like the first update, they also do not include every page number, and so only some of the ordering rules apply - within each update, the ordering rules that involve missing page numbers are not used.\n",
    "\n",
    "The fourth update, 75,97,47,61,53, is not in the correct order: it would print 75 before 97, which violates the rule 97|75.\n",
    "\n",
    "The fifth update, 61,13,29, is also not in the correct order, since it breaks the rule 29|13.\n",
    "\n",
    "The last update, 97,13,75,29,47, is not in the correct order due to breaking several rules.\n",
    "\n",
    "For some reason, the Elves also need to know the middle page number of each update being printed. Because you are currently only printing the correctly-ordered updates, you will need to find the middle page number of each correctly-ordered update. In the above example, the correctly-ordered updates are:\n",
    "```\n",
    "75,47,61,53,29\n",
    "97,61,53,29,13\n",
    "75,29,13\n",
    "```\n",
    "These have middle page numbers of 61, 53, and 29 respectively. Adding these page numbers together gives 143.\n",
    "\n",
    "Of course, you'll need to be careful: the actual list of page ordering rules is bigger and more complicated than the above example.\n",
    "\n",
    "Determine which updates are already in the correct order. What do you get if you add up the middle page number from those correctly-ordered updates?\n",
    "\n"
   ]
  },
  {
   "cell_type": "code",
   "execution_count": 1,
   "id": "aa63c426-1a16-47a4-9ca0-f2653be75891",
   "metadata": {},
   "outputs": [],
   "source": [
    "with open('input.txt','r') as f:\n",
    "    data = f.read().splitlines()"
   ]
  },
  {
   "cell_type": "code",
   "execution_count": 2,
   "id": "ed6cef1f-6476-4bc6-b0af-5bcf54a291e0",
   "metadata": {},
   "outputs": [],
   "source": [
    "rules = data[:data.index('')]\n",
    "updates = data[data.index('')+1:]"
   ]
  },
  {
   "cell_type": "code",
   "execution_count": 3,
   "id": "892b278c-0e5b-47aa-bd0c-95ecbfb23ab5",
   "metadata": {},
   "outputs": [],
   "source": [
    "keys = [int(rule.split('|')[0]) for rule in rules]\n",
    "vals = [int(rule.split('|')[1]) for rule in rules]\n",
    "rule_map = {k: [] for k in keys}\n",
    "for k, v in zip(keys, vals):\n",
    "    rule_map[k].append(v)\n",
    "updates = [[int(num) for num in line.split(',')] for line in updates]"
   ]
  },
  {
   "cell_type": "code",
   "execution_count": 4,
   "id": "2bbec4fc-ab38-4984-adba-15bc2f6bc007",
   "metadata": {},
   "outputs": [],
   "source": [
    "def is_valid(rule_map, upd):\n",
    "    for i, u in enumerate(upd):\n",
    "        for later in upd[i + 1:]:\n",
    "            if u in rule_map.get(later, []):\n",
    "                return False\n",
    "    return True"
   ]
  },
  {
   "cell_type": "code",
   "execution_count": 7,
   "id": "adc7ec40-30c7-4e4a-905e-a37cc6031b05",
   "metadata": {},
   "outputs": [],
   "source": [
    "def sum_middle_pages(rule_map, updates):\n",
    "    mid_sum = 0\n",
    "    for upd in updates:\n",
    "        if is_valid(rule_map, upd):\n",
    "            mid_idx = len(upd) // 2\n",
    "            mid_sum += upd[mid_idx]\n",
    "    return mid_sum"
   ]
  },
  {
   "cell_type": "code",
   "execution_count": 8,
   "id": "d3095b15-b1be-4c5d-96a2-f893803561f8",
   "metadata": {},
   "outputs": [
    {
     "data": {
      "text/plain": [
       "6242"
      ]
     },
     "execution_count": 8,
     "metadata": {},
     "output_type": "execute_result"
    }
   ],
   "source": [
    "sum_middle_pages(rule_map, updates)"
   ]
  },
  {
   "cell_type": "markdown",
   "id": "fcd77f56-7b9d-4777-83cc-98b14baff03b",
   "metadata": {},
   "source": [
    "--- Part Two ---\n",
    "\n",
    "While the Elves get to work printing the correctly-ordered updates, you have a little time to fix the rest of them.\n",
    "\n",
    "For each of the incorrectly-ordered updates, use the page ordering rules to put the page numbers in the right order. For the above example, here are the three incorrectly-ordered updates and their correct orderings:\n",
    "```\n",
    "75,97,47,61,53 becomes 97,75,47,61,53.\n",
    "61,13,29 becomes 61,29,13.\n",
    "97,13,75,29,47 becomes 97,75,47,29,13.\n",
    "```\n",
    "After taking only the incorrectly-ordered updates and ordering them correctly, their middle page numbers are 47, 29, and 47. Adding these together produces 123.\n",
    "\n",
    "Find the updates which are not in the correct order. What do you get if you add up the middle page numbers after correctly ordering just those updates?"
   ]
  },
  {
   "cell_type": "code",
   "execution_count": 9,
   "id": "af28343d-cfdf-4a5c-853e-155ade004b8c",
   "metadata": {},
   "outputs": [],
   "source": [
    "from collections import defaultdict, deque"
   ]
  },
  {
   "cell_type": "code",
   "execution_count": 10,
   "id": "3d20b4e4-e2bd-4959-b048-21e7c33587c6",
   "metadata": {},
   "outputs": [],
   "source": [
    "def sort_update(rule_map, upd):\n",
    "\n",
    "    dependencies = defaultdict(list)\n",
    "    indegree = defaultdict(int)\n",
    "\n",
    "    for page in upd:\n",
    "        if page in rule_map:\n",
    "            for dep in rule_map[page]:\n",
    "                if dep in upd:\n",
    "                    dependencies[dep].append(page)\n",
    "                    indegree[page] += 1\n",
    "\n",
    "    queue = deque([page for page in upd if indegree[page] == 0])\n",
    "\n",
    "    sorted_pages = []\n",
    "    while queue:\n",
    "        current = queue.popleft()\n",
    "        sorted_pages.append(current)\n",
    "        for neighbor in dependencies[current]:\n",
    "            indegree[neighbor] -= 1\n",
    "            if indegree[neighbor] == 0:\n",
    "                queue.append(neighbor)\n",
    "\n",
    "    for page in upd:\n",
    "        if page not in sorted_pages:\n",
    "            sorted_pages.append(page)\n",
    "\n",
    "    return sorted_pages"
   ]
  },
  {
   "cell_type": "code",
   "execution_count": 11,
   "id": "77ef48c0-587b-4ae7-a1fa-985663e7d363",
   "metadata": {},
   "outputs": [
    {
     "data": {
      "text/plain": [
       "5169"
      ]
     },
     "execution_count": 11,
     "metadata": {},
     "output_type": "execute_result"
    }
   ],
   "source": [
    "mid_sum = 0\n",
    "\n",
    "for upd in updates:\n",
    "    if not is_valid(rule_map, upd):\n",
    "        corrected = sort_update(rule_map, upd)\n",
    "        mid_idx = len(corrected) // 2 \n",
    "        mid_sum += corrected[mid_idx] \n",
    "\n",
    "mid_sum"
   ]
  }
 ],
 "metadata": {
  "kernelspec": {
   "display_name": "Python 3 (ipykernel)",
   "language": "python",
   "name": "python3"
  },
  "language_info": {
   "codemirror_mode": {
    "name": "ipython",
    "version": 3
   },
   "file_extension": ".py",
   "mimetype": "text/x-python",
   "name": "python",
   "nbconvert_exporter": "python",
   "pygments_lexer": "ipython3",
   "version": "3.11.5"
  }
 },
 "nbformat": 4,
 "nbformat_minor": 5
}
