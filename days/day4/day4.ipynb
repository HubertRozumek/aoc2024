{
 "cells": [
  {
   "cell_type": "markdown",
   "id": "3130e67c-952f-492d-9da6-178555194d35",
   "metadata": {},
   "source": [
    "--- Day 4: Ceres Search ---\n",
    "\n",
    "\"Looks like the Chief's not here. Next!\" One of The Historians pulls out a device and pushes the only button on it. After a brief flash, you recognize the interior of the Ceres monitoring station!\n",
    "\n",
    "As the search for the Chief continues, a small Elf who lives on the station tugs on your shirt; she'd like to know if you could help her with her word search (your puzzle input). She only has to find one word: XMAS.\n",
    "\n",
    "This word search allows words to be horizontal, vertical, diagonal, written backwards, or even overlapping other words. It's a little unusual, though, as you don't merely need to find one instance of XMAS - you need to find all of them. Here are a few ways XMAS might appear, where irrelevant characters have been replaced with .:\n",
    "\n",
    "```\n",
    "..X...\n",
    ".SAMX.\n",
    ".A..A.\n",
    "XMAS.S\n",
    ".X....\n",
    "```\n",
    "The actual word search will be full of letters instead. For example:\n",
    "```\n",
    "MMMSXXMASM\n",
    "MSAMXMSMSA\n",
    "AMXSXMAAMM\n",
    "MSAMASMSMX\n",
    "XMASAMXAMM\n",
    "XXAMMXXAMA\n",
    "SMSMSASXSS\n",
    "SAXAMASAAA\n",
    "MAMMMXMMMM\n",
    "MXMXAXMASX\n",
    "```\n",
    "In this word search, XMAS occurs a total of 18 times; here's the same word search again, but where letters not involved in any XMAS have been replaced with .:\n",
    "```\n",
    "....XXMAS.\n",
    ".SAMXMS...\n",
    "...S..A...\n",
    "..A.A.MS.X\n",
    "XMASAMX.MM\n",
    "X.....XA.A\n",
    "S.S.S.S.SS\n",
    ".A.A.A.A.A\n",
    "..M.M.M.MM\n",
    ".X.X.XMASX\n",
    "```\n",
    "Take a look at the little Elf's word search. How many times does XMAS appear?"
   ]
  },
  {
   "cell_type": "code",
   "execution_count": 1,
   "id": "c37f2ae4-b89e-487b-9de5-c93e4ab2cc7c",
   "metadata": {},
   "outputs": [],
   "source": [
    "import numpy as np\n",
    "\n",
    "with open(\"input.txt\", 'r') as f:\n",
    "    file = f.read()\n",
    "    data = np.array([[char for char in line] for line in file.split()])"
   ]
  },
  {
   "cell_type": "code",
   "execution_count": 2,
   "id": "e8022658-bea9-43a7-870b-7ddb798e7131",
   "metadata": {},
   "outputs": [],
   "source": [
    "def search(data, direction, x, y, visited):\n",
    "    rows, cols = data.shape\n",
    "    targets = {\"XMAS\", \"SAMX\"}\n",
    "    word = ''\n",
    "    coords = []\n",
    "    \n",
    "    for step in range(4):\n",
    "        nx, ny = x + step * direction[0], y + step * direction[1]\n",
    "        if 0 <= nx < rows and 0 <= ny < cols:\n",
    "            word += data[nx, ny]\n",
    "            coords.append((nx, ny))\n",
    "        else:\n",
    "            return 0 \n",
    "    \n",
    "    if word in targets:\n",
    "        coord_tuple = tuple(coords)\n",
    "        if coord_tuple not in visited and coord_tuple[::-1] not in visited:\n",
    "            visited.add(coord_tuple)\n",
    "            return 1\n",
    "    return 0"
   ]
  },
  {
   "cell_type": "code",
   "execution_count": 3,
   "id": "3cf98059-d06b-4036-8a5f-b2394d9b405a",
   "metadata": {},
   "outputs": [],
   "source": [
    "directions = [\n",
    "    [0, 1],    \n",
    "    [1, 0],    \n",
    "    [1, 1],    \n",
    "    [-1, 1],\n",
    "]\n",
    "\n",
    "def count(data, directions):\n",
    "    total = 0\n",
    "    visited = set()\n",
    "    \n",
    "    for i in range(data.shape[0]):\n",
    "        for j in range(data.shape[1]):\n",
    "            for direction in directions:\n",
    "                total += search(data, direction, i, j, visited)\n",
    "    return total"
   ]
  },
  {
   "cell_type": "code",
   "execution_count": 4,
   "id": "9198d5b1-509e-40d4-b5e4-9bc45e73005b",
   "metadata": {},
   "outputs": [
    {
     "data": {
      "text/plain": [
       "2414"
      ]
     },
     "execution_count": 4,
     "metadata": {},
     "output_type": "execute_result"
    }
   ],
   "source": [
    "count(data,directions)"
   ]
  },
  {
   "cell_type": "markdown",
   "id": "d748a1f3-455e-4588-b89e-6e85456bb071",
   "metadata": {},
   "source": [
    "--- Part Two ---\n",
    "    \n",
    "The Elf looks quizzically at you. Did you misunderstand the assignment?\n",
    "\n",
    "Looking for the instructions, you flip over the word search to find that \n",
    "this isn't actually an XMAS puzzle; it's an X-MAS puzzle in which you're \n",
    "supposed to find two MAS in the shape of an X. One way to achieve that is \n",
    "like this:\n",
    "```\n",
    "M.S\n",
    ".A.\n",
    "M.S\n",
    "```\n",
    "Irrelevant characters have again been replaced with . in the above diagram. Within the X, each MAS can be written forwards or backwards.\n",
    "\n",
    "Here's the same example from before, but this time all of the X-MASes have been kept instead:\n",
    "```\n",
    ".M.S......\n",
    "..A..MSMS.\n",
    ".M.S.MAA..\n",
    "..A.ASMSM.\n",
    ".M.S.M....\n",
    "..........\n",
    "S.S.S.S.S.\n",
    ".A.A.A.A..\n",
    "M.M.M.M.M.\n",
    "..........\n",
    "```\n",
    "In this example, an X-MAS appears 9 times.\n",
    "\n",
    "Flip the word search from the instructions back over to the word search side and try again. How many times does an X-MAS appear?\n",
    "\n"
   ]
  },
  {
   "cell_type": "code",
   "execution_count": 5,
   "id": "b1a18651-86c0-4d40-9815-5de126de0d60",
   "metadata": {},
   "outputs": [],
   "source": [
    "def check_x_mas(data,i,j):\n",
    "    diagonals = [\n",
    "        [-1,-1,1,1],\n",
    "        [1,-1,-1,1],\n",
    "    ]\n",
    "    target = {\"MAS\", \"SAM\"}\n",
    "    for diagonal in diagonals:\n",
    "        word = ''\n",
    "        word = (\n",
    "                data[i+diagonal[0]][j+diagonal[1]] + \n",
    "                data[i][j] + \n",
    "                data[i+diagonal[2]][j+diagonal[3]]\n",
    "               )\n",
    "        if word not in target:\n",
    "            return 0\n",
    "\n",
    "    return 1\n",
    "\n",
    "def count_x_mas(data):\n",
    "    count = 0\n",
    "    \n",
    "    for i in range(1,data.shape[0]-1):\n",
    "        for j in range(1,data.shape[1]-1):\n",
    "            if data[i,j] == 'A':\n",
    "                count += check_x_mas(data,i,j)\n",
    "    return count"
   ]
  },
  {
   "cell_type": "code",
   "execution_count": 6,
   "id": "ad8dc789-a632-4b3a-8303-b833c0c0655d",
   "metadata": {},
   "outputs": [
    {
     "data": {
      "text/plain": [
       "1871"
      ]
     },
     "execution_count": 6,
     "metadata": {},
     "output_type": "execute_result"
    }
   ],
   "source": [
    "count_x_mas(data)"
   ]
  }
 ],
 "metadata": {
  "kernelspec": {
   "display_name": "Python 3 (ipykernel)",
   "language": "python",
   "name": "python3"
  },
  "language_info": {
   "codemirror_mode": {
    "name": "ipython",
    "version": 3
   },
   "file_extension": ".py",
   "mimetype": "text/x-python",
   "name": "python",
   "nbconvert_exporter": "python",
   "pygments_lexer": "ipython3",
   "version": "3.11.5"
  }
 },
 "nbformat": 4,
 "nbformat_minor": 5
}
