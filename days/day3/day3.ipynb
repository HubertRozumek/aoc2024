{
 "cells": [
  {
   "cell_type": "markdown",
   "id": "1a414a1a-afa4-4207-a665-37fabf5f5352",
   "metadata": {},
   "source": [
    "Our computers are having issues, so I have no idea if we have any Chief Historians in stock! You're welcome to check the warehouse, though,\" says the mildly flustered shopkeeper at the North Pole Toboggan Rental Shop. The Historians head out to take a look.\n",
    "\n",
    "The shopkeeper turns to you. \"Any chance you can see why our computers are having issues again?\"\n",
    "\n",
    "The computer appears to be trying to run a program, but its memory (your puzzle input) is corrupted. All of the instructions have been jumbled up!\n",
    "\n",
    "It seems like the goal of the program is just to multiply some numbers. It does that with instructions like mul(X,Y), where X and Y are each 1-3 digit numbers. For instance, mul(44,46) multiplies 44 by 46 to get a result of 2024. Similarly, mul(123,4) would multiply 123 by 4.\n",
    "\n",
    "However, because the program's memory has been corrupted, there are also many invalid characters that should be ignored, even if they look like part of a mul instruction. Sequences like mul(4*, mul(6,9!, ?(12,34), or mul ( 2 , 4 ) do nothing.\n",
    "\n",
    "For example, consider the following section of corrupted memory:\n",
    "\n",
    "xmul(2,4)%&mul[3,7]!@^do_not_mul(5,5)+mul(32,64]then(mul(11,8)mul(8,5))\n",
    "Only the four highlighted sections are real mul instructions. Adding up the result of each instruction produces 161 (```2*4 + 5*5 + 11*8 + 8*5```).\n",
    "\n",
    "Scan the corrupted memory for uncorrupted mul instructions. What do you get if you add up all of the results of the multiplications?\n",
    "\n"
   ]
  },
  {
   "cell_type": "code",
   "execution_count": 1,
   "id": "58fce6b4-a538-4b67-ae60-25e51980aa16",
   "metadata": {},
   "outputs": [],
   "source": [
    "import re"
   ]
  },
  {
   "cell_type": "code",
   "execution_count": 2,
   "id": "22f89172-362e-41ca-9c99-8fa1b2cfb6a9",
   "metadata": {},
   "outputs": [],
   "source": [
    "with open(\"input.txt\",'r') as f:\n",
    "    file = f.read()\n",
    "\n",
    "pattern = \"mul\\((\\d{1,3}),(\\d{1,3})\\)\"\n",
    "data = re.findall(pattern,file)"
   ]
  },
  {
   "cell_type": "code",
   "execution_count": 3,
   "id": "7f67aeb3-313a-46b1-a5ba-8118312806fb",
   "metadata": {},
   "outputs": [
    {
     "data": {
      "text/plain": [
       "170807108"
      ]
     },
     "execution_count": 3,
     "metadata": {},
     "output_type": "execute_result"
    }
   ],
   "source": [
    "result = sum(int(num1) * int(num2) for num1, num2 in data)\n",
    "result #That's the right answer!"
   ]
  },
  {
   "cell_type": "markdown",
   "id": "a6ead526-57bf-400d-9e38-97a9903db997",
   "metadata": {},
   "source": [
    "--- Part Two ---\n",
    "\n",
    "As you scan through the corrupted memory, you notice that some of the conditional statements are also still intact. If you handle some of the uncorrupted conditional statements in the program, you might be able to get an even more accurate result.\n",
    "\n",
    "There are two new instructions you'll need to handle:\n",
    "```\n",
    "The do() instruction enables future mul instructions.\n",
    "The don't() instruction disables future mul instructions.\n",
    "```\n",
    "Only the most recent do() or don't() instruction applies. At the beginning of the program, mul instructions are enabled.\n",
    "\n",
    "For example:\n",
    "\n",
    "xmul(2,4)&mul[3,7]!^don't()_mul(5,5)+mul(32,64](mul(11,8)undo()?mul(8,5))\n",
    "This corrupted memory is similar to the example from before, but this time the mul(5,5) and mul(11,8) instructions are disabled because there is a don't() instruction before them. The other mul instructions function normally, including the one at the end that gets re-enabled by a do() instruction.\n",
    "\n",
    "This time, the sum of the results is 48 (```2*4 + 8*5```).\n",
    "\n",
    "Handle the new instructions; what do you get if you add up all of the results of just the enabled multiplications?"
   ]
  },
  {
   "cell_type": "code",
   "execution_count": 4,
   "id": "7cc09583-f716-4772-8d25-4522e939282e",
   "metadata": {},
   "outputs": [],
   "source": [
    "def nazwa(file):\n",
    "    pattern = r\"mul\\((\\d{1,3}),(\\d{1,3})\\)\"\n",
    "    enable = r\"do\\(\\)\"\n",
    "    disable = r\"don't\\(\\)\"\n",
    "    \n",
    "    status = True\n",
    "    result= 0 \n",
    "\n",
    "    tokens = re.finditer(rf\"{pattern}|{disable}|{enable}\", file)\n",
    "\n",
    "    for match in tokens:\n",
    "        if match.group().startswith(\"mul\"):\n",
    "            if status:\n",
    "                num1,num2 = map(int,match.groups())\n",
    "                result += num1*num2\n",
    "        elif match.group() == \"don't()\":\n",
    "            status = False\n",
    "        else:\n",
    "            status = True\n",
    "\n",
    "    return result\n"
   ]
  },
  {
   "cell_type": "code",
   "execution_count": 5,
   "id": "dd7e0381-ccd1-44c9-94f5-9c49c0f28d26",
   "metadata": {},
   "outputs": [
    {
     "data": {
      "text/plain": [
       "74838033"
      ]
     },
     "execution_count": 5,
     "metadata": {},
     "output_type": "execute_result"
    }
   ],
   "source": [
    "nazwa(file) #That's the right answer!"
   ]
  }
 ],
 "metadata": {
  "kernelspec": {
   "display_name": "Python 3 (ipykernel)",
   "language": "python",
   "name": "python3"
  },
  "language_info": {
   "codemirror_mode": {
    "name": "ipython",
    "version": 3
   },
   "file_extension": ".py",
   "mimetype": "text/x-python",
   "name": "python",
   "nbconvert_exporter": "python",
   "pygments_lexer": "ipython3",
   "version": "3.11.5"
  }
 },
 "nbformat": 4,
 "nbformat_minor": 5
}
