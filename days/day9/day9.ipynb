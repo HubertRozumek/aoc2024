{
 "cells": [
  {
   "cell_type": "markdown",
   "id": "17b7db81-79b9-48bc-9b25-7870d4fa473c",
   "metadata": {},
   "source": [
    "--- Day 9: Disk Fragmenter ---\n",
    "\n",
    "Another push of the button leaves you in the familiar hallways of some friendly amphipods! Good thing you each somehow got your own personal mini submarine. The Historians jet away in search of the Chief, mostly by driving directly into walls.\n",
    "\n",
    "While The Historians quickly figure out how to pilot these things, you notice an amphipod in the corner struggling with his computer. He's trying to make more contiguous free space by compacting all of the files, but his program isn't working; you offer to help.\n",
    "\n",
    "He shows you the disk map (your puzzle input) he's already generated. For example:\n",
    "```\n",
    "2333133121414131402\n",
    "```\n",
    "The disk map uses a dense format to represent the layout of files and free space on the disk. The digits alternate between indicating the length of a file and the length of free space.\n",
    "\n",
    "So, a disk map like 12345 would represent a one-block file, two blocks of free space, a three-block file, four blocks of free space, and then a five-block file. A disk map like 90909 would represent three nine-block files in a row (with no free space between them).\n",
    "\n",
    "Each file on disk also has an ID number based on the order of the files as they appear before they are rearranged, starting with ID 0. So, the disk map 12345 has three files: a one-block file with ID 0, a three-block file with ID 1, and a five-block file with ID 2. Using one character for each block where digits are the file ID and . is free space, the disk map 12345 represents these individual blocks:\n",
    "```\n",
    "0..111....22222\n",
    "```\n",
    "The first example above, 2333133121414131402, represents these individual blocks:\n",
    "```\n",
    "00...111...2...333.44.5555.6666.777.888899\n",
    "```\n",
    "The amphipod would like to move file blocks one at a time from the end of the disk to the leftmost free space block (until there are no gaps remaining between file blocks). For the disk map 12345, the process looks like this:\n",
    "```\n",
    "0..111....22222\n",
    "02.111....2222.\n",
    "022111....222..\n",
    "0221112...22...\n",
    "02211122..2....\n",
    "022111222......\n",
    "```\n",
    "The first example requires a few more steps:\n",
    "```\n",
    "00...111...2...333.44.5555.6666.777.888899\n",
    "009..111...2...333.44.5555.6666.777.88889.\n",
    "0099.111...2...333.44.5555.6666.777.8888..\n",
    "00998111...2...333.44.5555.6666.777.888...\n",
    "009981118..2...333.44.5555.6666.777.88....\n",
    "0099811188.2...333.44.5555.6666.777.8.....\n",
    "009981118882...333.44.5555.6666.777.......\n",
    "0099811188827..333.44.5555.6666.77........\n",
    "00998111888277.333.44.5555.6666.7.........\n",
    "009981118882777333.44.5555.6666...........\n",
    "009981118882777333644.5555.666............\n",
    "00998111888277733364465555.66.............\n",
    "0099811188827773336446555566..............\n",
    "```\n",
    "The final step of this file-compacting process is to update the filesystem checksum. To calculate the checksum, add up the result of multiplying each of these blocks' position with the file ID number it contains. The leftmost block is in position 0. If a block contains free space, skip it instead.\n",
    "\n",
    "Continuing the first example, the first few blocks' position multiplied by its file ID number are 0 * 0 = 0, 1 * 0 = 0, 2 * 9 = 18, 3 * 9 = 27, 4 * 8 = 32, and so on. In this example, the checksum is the sum of these, 1928.\n",
    "\n",
    "Compact the amphipod's hard drive using the process he requested. What is the resulting filesystem checksum? (Be careful copy/pasting the input for this puzzle; it is a single, very long line.)\n",
    "\n"
   ]
  },
  {
   "cell_type": "code",
   "execution_count": 1,
   "id": "2a235edf-a598-4c40-b359-292245d3a37c",
   "metadata": {},
   "outputs": [],
   "source": [
    "with open('input.txt', 'r') as f:\n",
    "    file = f.read()"
   ]
  },
  {
   "cell_type": "code",
   "execution_count": 2,
   "id": "50f05f46-e059-43b3-81e9-b8e262ec83d7",
   "metadata": {},
   "outputs": [],
   "source": [
    "def parse_disk(file):\n",
    "    disk = []\n",
    "    is_file = True\n",
    "    file_id = 0\n",
    "\n",
    "    for char in file:\n",
    "        length = int(char)\n",
    "        if is_file:\n",
    "            disk.extend([file_id] * length)\n",
    "            file_id += 1\n",
    "        else:\n",
    "            disk.extend([None] * length)\n",
    "        is_file = not is_file\n",
    "    \n",
    "    return disk"
   ]
  },
  {
   "cell_type": "code",
   "execution_count": 3,
   "id": "c86059b5-28af-4006-8e03-25d33613b3f4",
   "metadata": {},
   "outputs": [],
   "source": [
    "def compact_disk(disk):\n",
    "    first_free = 0\n",
    "    while disk[first_free] is not None:\n",
    "        first_free += 1\n",
    "\n",
    "    last_file = len(disk) - 1\n",
    "    while disk[last_file] is None:\n",
    "        last_file -= 1\n",
    "\n",
    "    while last_file > first_free:\n",
    "        disk[first_free] = disk[last_file]\n",
    "        disk[last_file] = None\n",
    "        while disk[last_file] is None:\n",
    "            last_file -= 1\n",
    "        while disk[first_free] is not None:\n",
    "            first_free += 1\n",
    "    \n",
    "    return disk"
   ]
  },
  {
   "cell_type": "code",
   "execution_count": 4,
   "id": "966f1c31-3e1d-4d68-8229-a3481837489b",
   "metadata": {},
   "outputs": [],
   "source": [
    "def calculate_checksum(disk):\n",
    "    return sum(i * block_id for i, block_id in enumerate(disk) if block_id is not None)"
   ]
  },
  {
   "cell_type": "code",
   "execution_count": 5,
   "id": "6d42303f-c166-4a75-b327-0dcd51922726",
   "metadata": {},
   "outputs": [
    {
     "data": {
      "text/plain": [
       "6370402949053"
      ]
     },
     "execution_count": 5,
     "metadata": {},
     "output_type": "execute_result"
    }
   ],
   "source": [
    "disk = parse_disk(file)\n",
    "compacted_disk = compact_disk(disk)\n",
    "result_checksum = calculate_checksum(compacted_disk)\n",
    "result_checksum"
   ]
  },
  {
   "cell_type": "markdown",
   "id": "8213fe9d-1a05-4c2c-9747-af6ef01d0751",
   "metadata": {},
   "source": [
    "That's the right answer! You are one gold star closer to finding the Chief Historian."
   ]
  },
  {
   "cell_type": "markdown",
   "id": "51ca80fe-61d6-41ed-8e17-79b176254cc4",
   "metadata": {},
   "source": [
    "--- Part Two ---\n",
    "    \n",
    "Upon completion, two things immediately become clear. First, the disk definitely has a lot more contiguous free space, just like the amphipod hoped. Second, the computer is running much more slowly! Maybe introducing all of that file system fragmentation was a bad idea?\n",
    "\n",
    "The eager amphipod already has a new plan: rather than move individual blocks, he'd like to try compacting the files on his disk by moving whole files instead.\n",
    "\n",
    "This time, attempt to move whole files to the leftmost span of free space blocks that could fit the file. Attempt to move each file exactly once in order of decreasing file ID number starting with the file with the highest file ID number. If there is no span of free space to the left of a file that is large enough to fit the file, the file does not move.\n",
    "\n",
    "The first example from above now proceeds differently:\n",
    "```\n",
    "00...111...2...333.44.5555.6666.777.888899\n",
    "0099.111...2...333.44.5555.6666.777.8888..\n",
    "0099.1117772...333.44.5555.6666.....8888..\n",
    "0099.111777244.333....5555.6666.....8888..\n",
    "00992111777.44.333....5555.6666.....8888..\n",
    "```\n",
    "The process of updating the filesystem checksum is the same; now, this example's checksum would be 2858.\n",
    "\n",
    "Start over, now compacting the amphipod's hard drive using this new method instead. What is the resulting filesystem checksum?\n",
    "\n"
   ]
  },
  {
   "cell_type": "code",
   "execution_count": 6,
   "id": "7f1b73b1-9158-44d7-826b-d588c3e00058",
   "metadata": {},
   "outputs": [],
   "source": [
    "def find_free_space(disk, size, limit):\n",
    "    start = 0\n",
    "    while start < limit:\n",
    "        if disk[start] is None:\n",
    "            span_length = 0\n",
    "            while start + span_length < len(disk) and disk[start + span_length] is None:\n",
    "                span_length += 1\n",
    "            if span_length >= size:\n",
    "                return start\n",
    "            start += span_length\n",
    "        start += 1\n",
    "    return None"
   ]
  },
  {
   "cell_type": "code",
   "execution_count": 7,
   "id": "3f63e121-b197-4883-82ba-93fc34fac6b2",
   "metadata": {},
   "outputs": [],
   "source": [
    "def compact_disk_part_two(disk):\n",
    "    max_id = max(filter(lambda x: x is not None, disk)) \n",
    "    for file_id in range(max_id, -1, -1):\n",
    "        positions = [i for i, block in enumerate(disk) if block == file_id]\n",
    "        if not positions:\n",
    "            continue \n",
    "\n",
    "\n",
    "        file_length = len(positions)\n",
    "\n",
    "        free_start = find_free_space(disk, file_length, positions[0])\n",
    "        if free_start is not None:\n",
    "            for i in range(file_length):\n",
    "                disk[free_start + i] = file_id\n",
    "                disk[positions[i]] = None\n",
    "\n",
    "    return disk\n"
   ]
  },
  {
   "cell_type": "code",
   "execution_count": 8,
   "id": "f600eb72-b4b8-44a8-8991-e20e0d99fce2",
   "metadata": {},
   "outputs": [
    {
     "data": {
      "text/plain": [
       "6398096697992"
      ]
     },
     "execution_count": 8,
     "metadata": {},
     "output_type": "execute_result"
    }
   ],
   "source": [
    "disk = parse_disk(file)\n",
    "compacted_disk = compact_disk_part_two(disk)\n",
    "result = calculate_checksum(compacted_disk)\n",
    "result"
   ]
  },
  {
   "cell_type": "markdown",
   "id": "cf9f0060-7219-4422-b250-f89f48a545ca",
   "metadata": {},
   "source": [
    "That's the right answer! You are one gold star closer to finding the Chief Historian."
   ]
  }
 ],
 "metadata": {
  "kernelspec": {
   "display_name": "Python 3 (ipykernel)",
   "language": "python",
   "name": "python3"
  },
  "language_info": {
   "codemirror_mode": {
    "name": "ipython",
    "version": 3
   },
   "file_extension": ".py",
   "mimetype": "text/x-python",
   "name": "python",
   "nbconvert_exporter": "python",
   "pygments_lexer": "ipython3",
   "version": "3.11.5"
  }
 },
 "nbformat": 4,
 "nbformat_minor": 5
}
