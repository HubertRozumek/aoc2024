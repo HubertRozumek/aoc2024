{
 "cells": [
  {
   "cell_type": "markdown",
   "id": "fbb81a73-22c5-4c72-92d1-6d92fbfbbbc2",
   "metadata": {},
   "source": [
    "--- Day 6: Guard Gallivant ---\n",
    "\n",
    "The Historians use their fancy device again, this time to whisk you all away to the North Pole prototype suit manufacturing lab... in the year 1518! It turns out that having direct access to history is very convenient for a group of historians.\n",
    "\n",
    "You still have to be careful of time paradoxes, and so it will be important to avoid anyone from 1518 while The Historians search for the Chief. Unfortunately, a single guard is patrolling this part of the lab.\n",
    "\n",
    "Maybe you can work out where the guard will go ahead of time so that The Historians can search safely?\n",
    "\n",
    "You start by making a map (your puzzle input) of the situation. For example:\n",
    "```\n",
    "....#.....\n",
    ".........#\n",
    "..........\n",
    "..#.......\n",
    ".......#..\n",
    "..........\n",
    ".#..^.....\n",
    "........#.\n",
    "#.........\n",
    "......#...\n",
    "```\n",
    "The map shows the current position of the guard with ^ (to indicate the guard is currently facing up from the perspective of the map). Any obstructions - crates, desks, alchemical reactors, etc. - are shown as #.\n",
    "\n",
    "Lab guards in 1518 follow a very strict patrol protocol which involves repeatedly following these steps:\n",
    "\n",
    "If there is something directly in front of you, turn right 90 degrees.\n",
    "Otherwise, take a step forward.\n",
    "Following the above protocol, the guard moves up several times until she reaches an obstacle (in this case, a pile of failed suit prototypes):\n",
    "```\n",
    "....#.....\n",
    "....^....#\n",
    "..........\n",
    "..#.......\n",
    ".......#..\n",
    "..........\n",
    ".#........\n",
    "........#.\n",
    "#.........\n",
    "......#...\n",
    "```\n",
    "Because there is now an obstacle in front of the guard, she turns right before continuing straight in her new facing direction:\n",
    "```\n",
    "....#.....\n",
    "........>#\n",
    "..........\n",
    "..#.......\n",
    ".......#..\n",
    "..........\n",
    ".#........\n",
    "........#.\n",
    "#.........\n",
    "......#...\n",
    "```\n",
    "Reaching another obstacle (a spool of several very long polymers), she turns right again and continues downward:\n",
    "```\n",
    "....#.....\n",
    ".........#\n",
    "..........\n",
    "..#.......\n",
    ".......#..\n",
    "..........\n",
    ".#......v.\n",
    "........#.\n",
    "#.........\n",
    "......#...\n",
    "```\n",
    "This process continues for a while, but the guard eventually leaves the mapped area (after walking past a tank of universal solvent):\n",
    "```\n",
    "....#.....\n",
    ".........#\n",
    "..........\n",
    "..#.......\n",
    ".......#..\n",
    "..........\n",
    ".#........\n",
    "........#.\n",
    "#.........\n",
    "......#v..\n",
    "```\n",
    "By predicting the guard's route, you can determine which specific positions in the lab will be in the patrol path. Including the guard's starting position, the positions visited by the guard before leaving the area are marked with an X:\n",
    "```\n",
    "....#.....\n",
    "....XXXXX#\n",
    "....X...X.\n",
    "..#.X...X.\n",
    "..XXXXX#X.\n",
    "..X.X.X.X.\n",
    ".#XXXXXXX.\n",
    ".XXXXXXX#.\n",
    "#XXXXXXX..\n",
    "......#X..\n",
    "```\n",
    "In this example, the guard will visit 41 distinct positions on your map.\n",
    "\n",
    "Predict the path of the guard. How many distinct positions will the guard visit before leaving the mapped area?"
   ]
  },
  {
   "cell_type": "code",
   "execution_count": 1,
   "id": "fbbc807c-d425-4a18-9148-0326132942f7",
   "metadata": {},
   "outputs": [],
   "source": [
    "import numpy as np\n",
    "import itertools"
   ]
  },
  {
   "cell_type": "code",
   "execution_count": 2,
   "id": "7b4241bb-083e-46c0-92cc-a4787a9ff774",
   "metadata": {},
   "outputs": [],
   "source": [
    "with open('input.txt','r') as f:\n",
    "    file = f.read().splitlines()"
   ]
  },
  {
   "cell_type": "code",
   "execution_count": 3,
   "id": "c7c9535c-5953-4c06-b763-d1bf0a932d12",
   "metadata": {},
   "outputs": [],
   "source": [
    "data = np.array([[col for col in line] for line in file])"
   ]
  },
  {
   "cell_type": "code",
   "execution_count": 4,
   "id": "d2de86f9-c316-4b45-8aae-38203d270309",
   "metadata": {},
   "outputs": [
    {
     "data": {
      "text/plain": [
       "array(['#', '.', '^'], dtype='<U1')"
      ]
     },
     "execution_count": 4,
     "metadata": {},
     "output_type": "execute_result"
    }
   ],
   "source": [
    "np.unique(data)"
   ]
  },
  {
   "cell_type": "code",
   "execution_count": 5,
   "id": "f35f154e-6c7c-45aa-893c-3a9fa9120011",
   "metadata": {},
   "outputs": [],
   "source": [
    "direction = {'^': (-1, 0)} \n",
    "start_pos = 0\n",
    "for i in range(data.shape[0]):\n",
    "    for j in range(data.shape[1]):\n",
    "        if data[i, j] in direction:\n",
    "            start_pos = (i, j)\n",
    "            start_dir = direction[data[i, j]]\n",
    "            break\n",
    "    if start_pos:\n",
    "        break"
   ]
  },
  {
   "cell_type": "code",
   "execution_count": 6,
   "id": "16319238-9c4c-469f-8998-1f8ab5789a4c",
   "metadata": {},
   "outputs": [
    {
     "data": {
      "text/plain": [
       "(80, 84)"
      ]
     },
     "execution_count": 6,
     "metadata": {},
     "output_type": "execute_result"
    }
   ],
   "source": [
    "start_pos"
   ]
  },
  {
   "cell_type": "code",
   "execution_count": 7,
   "id": "53d9da5d-eb5d-40f4-b0ee-8b853fa8ebef",
   "metadata": {},
   "outputs": [],
   "source": [
    "def direction_generator():\n",
    "    directions = [(0, 1), (1, 0), (0, -1), (-1, 0)]\n",
    "    for d in itertools.cycle(directions):\n",
    "        yield d\n",
    "\n",
    "direction_gen = direction_generator()\n",
    "visited = set([start_pos])\n",
    "\n",
    "while True:\n",
    "\n",
    "    next_pos = tuple(map(sum, zip(start_pos, start_dir)))\n",
    "    x, y = next_pos\n",
    "\n",
    "\n",
    "    if x < 0 or x >= data.shape[0] or y < 0 or y >= data.shape[1]:\n",
    "        break  \n",
    "\n",
    "\n",
    "    if data[x, y] == \"#\":\n",
    "        start_dir = next(direction_gen)\n",
    "    else:\n",
    "        start_pos = next_pos\n",
    "        visited.add(start_pos)\n"
   ]
  },
  {
   "cell_type": "code",
   "execution_count": 8,
   "id": "cf43980d-271a-4479-89ea-240034605451",
   "metadata": {},
   "outputs": [
    {
     "data": {
      "text/plain": [
       "4778"
      ]
     },
     "execution_count": 8,
     "metadata": {},
     "output_type": "execute_result"
    }
   ],
   "source": [
    "len(visited)"
   ]
  },
  {
   "cell_type": "markdown",
   "id": "f5d7bdd1-3bef-4498-8eb3-b55cef596a32",
   "metadata": {},
   "source": [
    "That's the right answer! You are one gold star closer to finding the Chief Historian."
   ]
  },
  {
   "cell_type": "markdown",
   "id": "2c522c33-9fb9-4124-88b7-4fd0f61a4ba2",
   "metadata": {},
   "source": [
    "--- Part Two ---\n",
    "\n",
    "While The Historians begin working around the guard's patrol route, you borrow their fancy device and step outside the lab. From the safety of a supply closet, you time travel through the last few months and record the nightly status of the lab's guard post on the walls of the closet.\n",
    "\n",
    "Returning after what seems like only a few seconds to The Historians, they explain that the guard's patrol area is simply too large for them to safely search the lab without getting caught.\n",
    "\n",
    "Fortunately, they are pretty sure that adding a single new obstruction won't cause a time paradox. They'd like to place the new obstruction in such a way that the guard will get stuck in a loop, making the rest of the lab safe to search.\n",
    "\n",
    "To have the lowest chance of creating a time paradox, The Historians would like to know all of the possible positions for such an obstruction. The new obstruction can't be placed at the guard's starting position - the guard is there right now and would notice.\n",
    "\n",
    "In the above example, there are only 6 different positions where a new obstruction would cause the guard to get stuck in a loop. The diagrams of these six situations use O to mark the new obstruction, | to show a position where the guard moves up/down, - to show a position where the guard moves left/right, and + to show a position where the guard moves both up/down and left/right.\n",
    "\n",
    "Option one, put a printing press next to the guard's starting position:\n",
    "```\n",
    "....#.....\n",
    "....+---+#\n",
    "....|...|.\n",
    "..#.|...|.\n",
    "....|..#|.\n",
    "....|...|.\n",
    ".#.O^---+.\n",
    "........#.\n",
    "#.........\n",
    "......#...\n",
    "```\n",
    "Option two, put a stack of failed suit prototypes in the bottom right quadrant of the mapped area:\n",
    "\n",
    "```\n",
    "....#.....\n",
    "....+---+#\n",
    "....|...|.\n",
    "..#.|...|.\n",
    "..+-+-+#|.\n",
    "..|.|.|.|.\n",
    ".#+-^-+-+.\n",
    "......O.#.\n",
    "#.........\n",
    "......#...\n",
    "```\n",
    "Option three, put a crate of chimney-squeeze prototype fabric next to the standing desk in the bottom right quadrant:\n",
    "```\n",
    "....#.....\n",
    "....+---+#\n",
    "....|...|.\n",
    "..#.|...|.\n",
    "..+-+-+#|.\n",
    "..|.|.|.|.\n",
    ".#+-^-+-+.\n",
    ".+----+O#.\n",
    "#+----+...\n",
    "......#...\n",
    "```\n",
    "Option four, put an alchemical retroencabulator near the bottom left corner:\n",
    "```\n",
    "....#.....\n",
    "....+---+#\n",
    "....|...|.\n",
    "..#.|...|.\n",
    "..+-+-+#|.\n",
    "..|.|.|.|.\n",
    ".#+-^-+-+.\n",
    "..|...|.#.\n",
    "#O+---+...\n",
    "......#...\n",
    "```\n",
    "Option five, put the alchemical retroencabulator a bit to the right instead:\n",
    "```\n",
    "....#.....\n",
    "....+---+#\n",
    "....|...|.\n",
    "..#.|...|.\n",
    "..+-+-+#|.\n",
    "..|.|.|.|.\n",
    ".#+-^-+-+.\n",
    "....|.|.#.\n",
    "#..O+-+...\n",
    "......#...\n",
    "```\n",
    "Option six, put a tank of sovereign glue right next to the tank of universal solvent:\n",
    "```\n",
    "....#.....\n",
    "....+---+#\n",
    "....|...|.\n",
    "..#.|...|.\n",
    "..+-+-+#|.\n",
    "..|.|.|.|.\n",
    ".#+-^-+-+.\n",
    ".+----++#.\n",
    "#+----++..\n",
    "......#O..\n",
    "```\n",
    "It doesn't really matter what you choose to use as an obstacle so long as you and The Historians can put it into position without the guard noticing. The important thing is having enough options that you can find one that minimizes time paradoxes, and in this example, there are 6 different positions you could choose.\n",
    "\n",
    "You need to get the guard stuck in a loop by adding a single new obstruction. How many different positions could you choose for this obstruction?"
   ]
  },
  {
   "cell_type": "code",
   "execution_count": 9,
   "id": "9bcdbde9-50ae-4ed0-b246-0f01d06bf7b7",
   "metadata": {},
   "outputs": [],
   "source": [
    "direction = {'^': (-1, 0)} \n",
    "start_pos = 0\n",
    "for i in range(data.shape[0]):\n",
    "    for j in range(data.shape[1]):\n",
    "        if data[i, j] in direction:\n",
    "            start_pos = (i, j)\n",
    "            start_dir = direction[data[i, j]]\n",
    "            break\n",
    "    if start_pos:\n",
    "        break"
   ]
  },
  {
   "cell_type": "code",
   "execution_count": 10,
   "id": "4053dc6b-8ca9-4313-8aa7-493b9399f5f5",
   "metadata": {},
   "outputs": [],
   "source": [
    "def direction_generator():\n",
    "    directions = [(0, 1), (1, 0), (0, -1), (-1, 0)]\n",
    "    for d in itertools.cycle(directions):\n",
    "        yield d\n",
    "\n",
    "def simulate_with_obstacle(data, start_pos, start_dir, obstacle_pos):\n",
    "\n",
    "    direction_gen = direction_generator()\n",
    "    visited = set()  \n",
    "    current_pos = start_pos\n",
    "    current_dir = start_dir\n",
    "    state_history = set()  \n",
    "\n",
    "\n",
    "    data_with_obstacle = data.copy()\n",
    "    data_with_obstacle[obstacle_pos] = \"#\"\n",
    "\n",
    "    while True:\n",
    "\n",
    "        next_pos = tuple(map(sum, zip(current_pos, current_dir)))\n",
    "        x, y = next_pos\n",
    "\n",
    "        if x < 0 or x >= data_with_obstacle.shape[0] or y < 0 or y >= data_with_obstacle.shape[1]:\n",
    "            return False \n",
    "\n",
    "        if data_with_obstacle[x, y] == \"#\":\n",
    "            current_dir = next(direction_gen)\n",
    "        else:\n",
    "            current_pos = next_pos\n",
    "            visited.add(current_pos)\n",
    "\n",
    "            state = (current_pos, current_dir)\n",
    "            if state in state_history:\n",
    "                return True \n",
    "            state_history.add(state)\n",
    "\n",
    "    return False  "
   ]
  },
  {
   "cell_type": "code",
   "execution_count": 11,
   "id": "45b4cbb2-c7bd-4978-b546-9ed4e38350ca",
   "metadata": {},
   "outputs": [],
   "source": [
    "def find_obstacle_positions(data, start_pos, start_dir):\n",
    "    \n",
    "    possible_positions = set()\n",
    "\n",
    "    for i in range(data.shape[0]):\n",
    "        for j in range(data.shape[1]):\n",
    "            if data[i, j] == \".\" and (i, j) != start_pos:\n",
    "                if simulate_with_obstacle(data, start_pos, start_dir, (i, j)):\n",
    "                    possible_positions.add((i, j))\n",
    "\n",
    "    return possible_positions"
   ]
  },
  {
   "cell_type": "code",
   "execution_count": 12,
   "id": "da7be410-e53e-4b85-966b-dc27b2012001",
   "metadata": {},
   "outputs": [
    {
     "name": "stdout",
     "output_type": "stream",
     "text": [
      "Liczba możliwych pozycji przeszkód: 1618\n"
     ]
    }
   ],
   "source": [
    "possible_positions = find_obstacle_positions(data, start_pos, start_dir)\n",
    "print(\"Liczba możliwych pozycji przeszkód:\", len(possible_positions))"
   ]
  },
  {
   "cell_type": "markdown",
   "id": "57b6dd99-5c14-4cd2-9329-fb7e00dd17af",
   "metadata": {},
   "source": [
    "That's the right answer! You are one gold star closer to finding the Chief Historian."
   ]
  }
 ],
 "metadata": {
  "kernelspec": {
   "display_name": "Python 3 (ipykernel)",
   "language": "python",
   "name": "python3"
  },
  "language_info": {
   "codemirror_mode": {
    "name": "ipython",
    "version": 3
   },
   "file_extension": ".py",
   "mimetype": "text/x-python",
   "name": "python",
   "nbconvert_exporter": "python",
   "pygments_lexer": "ipython3",
   "version": "3.11.5"
  }
 },
 "nbformat": 4,
 "nbformat_minor": 5
}
