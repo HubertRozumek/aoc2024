{
 "cells": [
  {
   "cell_type": "markdown",
   "id": "994c5290-52bb-4d00-afba-fc8a1c32b06b",
   "metadata": {},
   "source": [
    "--- Day 7: Bridge Repair ---\n",
    "\n",
    "The Historians take you to a familiar rope bridge over a river in the middle of a jungle. The Chief isn't on this side of the bridge, though; maybe he's on the other side?\n",
    "\n",
    "When you go to cross the bridge, you notice a group of engineers trying to repair it. (Apparently, it breaks pretty frequently.) You won't be able to cross until it's fixed.\n",
    "\n",
    "You ask how long it'll take; the engineers tell you that it only needs final calibrations, but some young elephants were playing nearby and stole all the operators from their calibration equations! They could finish the calibrations if only someone could determine which test values could possibly be produced by placing any combination of operators into their calibration equations (your puzzle input).\n",
    "\n",
    "For example:\n",
    "```\n",
    "190: 10 19\n",
    "3267: 81 40 27\n",
    "83: 17 5\n",
    "156: 15 6\n",
    "7290: 6 8 6 15\n",
    "161011: 16 10 13\n",
    "192: 17 8 14\n",
    "21037: 9 7 18 13\n",
    "292: 11 6 16 20\n",
    "```\n",
    "Each line represents a single equation. The test value appears before the colon on each line; it is your job to determine whether the remaining numbers can be combined with operators to produce the test value.\n",
    "\n",
    "Operators are always evaluated left-to-right, not according to precedence rules. Furthermore, numbers in the equations cannot be rearranged. Glancing into the jungle, you can see elephants holding two different types of operators: add (+) and multiply (*).\n",
    "\n",
    "Only three of the above equations can be made true by inserting operators:\n",
    "```\n",
    "190: 10 19 has only one position that accepts an operator: between 10 and 19. Choosing + would give 29, but choosing * would give the test value (10 * 19 = 190).\n",
    "3267: 81 40 27 has two positions for operators. Of the four possible configurations of the operators, two cause the right side to match the test value: 81 + 40 * 27 and 81 * 40 + 27 both equal 3267 (when evaluated left-to-right)!\n",
    "292: 11 6 16 20 can be solved in exactly one way: 11 + 6 * 16 + 20.\n",
    "```\n",
    "The engineers just need the total calibration result, which is the sum of the test values from just the equations that could possibly be true. In the above example, the sum of the test values for the three equations listed above is 3749.\n",
    "\n",
    "Determine which equations could possibly be true. What is their total calibration result?\n",
    "\n"
   ]
  },
  {
   "cell_type": "code",
   "execution_count": 1,
   "id": "b37562dd-6d14-4449-a829-c2f696719766",
   "metadata": {},
   "outputs": [],
   "source": [
    "import pandas as pd\n",
    "import itertools"
   ]
  },
  {
   "cell_type": "code",
   "execution_count": 2,
   "id": "8a029916-8812-439a-9a1e-270422ac7572",
   "metadata": {},
   "outputs": [
    {
     "data": {
      "text/plain": [
       "<bound method NDFrame.head of         Result                                 Numbers\n",
       "0     27905293               [1, 3, 67, 91, 5, 5, 293]\n",
       "1      2656278                   [383, 3, 7, 99, 1, 8]\n",
       "2      5824995  [5, 1, 8, 2, 1, 89, 1, 6, 4, 2, 47, 3]\n",
       "3    777381126   [9, 749, 93, 7, 31, 8, 4, 2, 1, 5, 6]\n",
       "4      1315092               [3, 29, 76, 4, 46, 83, 6]\n",
       "..         ...                                     ...\n",
       "845   31091671           [6, 5, 2, 825, 9, 157, 4, 19]\n",
       "846    4239694   [6, 9, 3, 28, 2, 20, 8, 5, 3, 2, 409]\n",
       "847  120134644             [51, 7, 558, 5, 4, 937, 28]\n",
       "848    1055661                       [9, 2, 2, 58, 61]\n",
       "849      47501         [89, 840, 1, 9, 644, 30, 11, 1]\n",
       "\n",
       "[850 rows x 2 columns]>"
      ]
     },
     "execution_count": 2,
     "metadata": {},
     "output_type": "execute_result"
    }
   ],
   "source": [
    "with open('input.txt', 'r') as f:\n",
    "    data = f.read().splitlines()\n",
    "\n",
    "df = pd.DataFrame([line.split(':') for line in data], columns=['Result', 'Numbers'])\n",
    "\n",
    "df['Result'] = df['Result'].astype(int)\n",
    "df['Numbers'] = df['Numbers'].apply(lambda x: list(map(int, x.split())))\n",
    "\n",
    "df.head"
   ]
  },
  {
   "cell_type": "code",
   "execution_count": 3,
   "id": "7a8a05ec-57de-4a3f-8c1d-61b3b105dbe2",
   "metadata": {},
   "outputs": [],
   "source": [
    "def check(result,numbers):\n",
    "    \n",
    "    operators = list(itertools.product(['+', '*'], repeat=len(numbers) - 1))\n",
    "\n",
    "    for ops in operators:\n",
    "\n",
    "        test_val = numbers[0]\n",
    "        for i, op in enumerate(ops):\n",
    "            if op == '+':\n",
    "                test_val += numbers[i + 1]\n",
    "            elif op == '*':\n",
    "                test_val *= numbers[i + 1]\n",
    "\n",
    "        \n",
    "        if test_val == result:\n",
    "            return True  \n",
    "\n",
    "    return False "
   ]
  },
  {
   "cell_type": "code",
   "execution_count": 4,
   "id": "83131195-aa13-4c69-8813-f79ce122c643",
   "metadata": {},
   "outputs": [],
   "source": [
    "df['Valid'] = df.apply(lambda row: check(row['Result'], row['Numbers']), axis=1)"
   ]
  },
  {
   "cell_type": "code",
   "execution_count": 5,
   "id": "c824f05d-c73e-43ad-a1a9-7ba36b725b22",
   "metadata": {},
   "outputs": [],
   "source": [
    "valid_rows = df[df['Valid']]"
   ]
  },
  {
   "cell_type": "code",
   "execution_count": 6,
   "id": "8280023c-0c86-450e-a3b8-d9504b82ad74",
   "metadata": {},
   "outputs": [],
   "source": [
    "total_calibration = valid_rows['Result'].sum()"
   ]
  },
  {
   "cell_type": "code",
   "execution_count": 7,
   "id": "bec316ab-f1f8-4053-a929-44d37456e6ab",
   "metadata": {},
   "outputs": [
    {
     "data": {
      "text/plain": [
       "28730327770375"
      ]
     },
     "execution_count": 7,
     "metadata": {},
     "output_type": "execute_result"
    }
   ],
   "source": [
    "total_calibration"
   ]
  },
  {
   "cell_type": "markdown",
   "id": "fa3f9537-b94a-47d4-9b34-f23c45df6ec1",
   "metadata": {},
   "source": [
    "That's the right answer! You are one gold star closer to finding the Chief Historian."
   ]
  },
  {
   "cell_type": "markdown",
   "id": "322be14a-d988-4a97-a3c6-a0fd29f91f22",
   "metadata": {},
   "source": [
    "--- Part Two ---\n",
    "    \n",
    "The engineers seem concerned; the total calibration result you gave them is nowhere close to being within safety tolerances. Just then, you spot your mistake: some well-hidden elephants are holding a third type of operator.\n",
    "\n",
    "The concatenation operator (||) combines the digits from its left and right inputs into a single number. For example, 12 || 345 would become 12345. All operators are still evaluated left-to-right.\n",
    "\n",
    "Now, apart from the three equations that could be made true using only addition and multiplication, the above example has three more equations that can be made true by inserting operators:\n",
    "```\n",
    "156: 15 6 can be made true through a single concatenation: 15 || 6 = 156.\n",
    "7290: 6 8 6 15 can be made true using 6 * 8 || 6 * 15.\n",
    "192: 17 8 14 can be made true using 17 || 8 + 14.\n",
    "```\n",
    "Adding up all six test values (the three that could be made before using only + and * plus the new three that can now be made by also using ||) produces the new total calibration result of 11387.\n",
    "\n",
    "Using your new knowledge of elephant hiding spots, determine which equations could possibly be true. What is their total calibration result?"
   ]
  },
  {
   "cell_type": "code",
   "execution_count": 8,
   "id": "393a965b-4ba6-44cf-8553-d0aa9e68b0e6",
   "metadata": {},
   "outputs": [],
   "source": [
    "def check(result,numbers):\n",
    "    \n",
    "    operators = list(itertools.product(['+', '*','||'], repeat=len(numbers) - 1))\n",
    "\n",
    "    for ops in operators:\n",
    "\n",
    "        test_val = numbers[0]\n",
    "        for i, op in enumerate(ops):\n",
    "            if op == '+':\n",
    "                test_val += numbers[i + 1]\n",
    "            elif op == '*':\n",
    "                test_val *= numbers[i + 1]\n",
    "            elif op == '||':\n",
    "                test_val = int(f'{test_val}{numbers[i+1]}')\n",
    "\n",
    "        \n",
    "        if test_val == result:\n",
    "            return True  \n",
    "\n",
    "    return False "
   ]
  },
  {
   "cell_type": "code",
   "execution_count": 9,
   "id": "0bc7762a-86b3-4bd0-a754-f7e5968cea71",
   "metadata": {},
   "outputs": [],
   "source": [
    "df['Valid Part Two'] = df.apply(lambda row: check(row['Result'], row['Numbers']), axis=1)"
   ]
  },
  {
   "cell_type": "code",
   "execution_count": 10,
   "id": "32db3e27-647b-4291-b02d-e945d428337d",
   "metadata": {},
   "outputs": [],
   "source": [
    "valid_rows = df[df['Valid Part Two']]"
   ]
  },
  {
   "cell_type": "code",
   "execution_count": 11,
   "id": "34e0cdfa-93d3-4ad6-a69b-327537c2c908",
   "metadata": {},
   "outputs": [],
   "source": [
    "total_calibration = valid_rows['Result'].sum()"
   ]
  },
  {
   "cell_type": "code",
   "execution_count": 12,
   "id": "5c26a043-cd7e-4ae9-bb4e-437ab49a4421",
   "metadata": {},
   "outputs": [
    {
     "data": {
      "text/plain": [
       "424977609625985"
      ]
     },
     "execution_count": 12,
     "metadata": {},
     "output_type": "execute_result"
    }
   ],
   "source": [
    "total_calibration"
   ]
  },
  {
   "cell_type": "markdown",
   "id": "36ad4668-4f8f-4c30-ba5e-fbf875b1ce02",
   "metadata": {},
   "source": [
    "That's the right answer! You are one gold star closer to finding the Chief Historian."
   ]
  }
 ],
 "metadata": {
  "kernelspec": {
   "display_name": "Python 3 (ipykernel)",
   "language": "python",
   "name": "python3"
  },
  "language_info": {
   "codemirror_mode": {
    "name": "ipython",
    "version": 3
   },
   "file_extension": ".py",
   "mimetype": "text/x-python",
   "name": "python",
   "nbconvert_exporter": "python",
   "pygments_lexer": "ipython3",
   "version": "3.11.5"
  }
 },
 "nbformat": 4,
 "nbformat_minor": 5
}
