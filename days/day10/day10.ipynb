{
 "cells": [
  {
   "cell_type": "markdown",
   "id": "3a6c8db6-0932-4190-9627-5da13478e480",
   "metadata": {},
   "source": [
    "--- Day 10: Hoof It ---\n",
    "\n",
    "You all arrive at a Lava Production Facility on a floating island in the sky. As the others begin to search the massive industrial complex, you feel a small nose boop your leg and look down to discover a reindeer wearing a hard hat.\n",
    "\n",
    "The reindeer is holding a book titled \"Lava Island Hiking Guide\". However, when you open the book, you discover that most of it seems to have been scorched by lava! As you're about to ask how you can help, the reindeer brings you a blank topographic map of the surrounding area (your puzzle input) and looks up at you excitedly.\n",
    "\n",
    "Perhaps you can help fill in the missing hiking trails?\n",
    "\n",
    "The topographic map indicates the height at each position using a scale from 0 (lowest) to 9 (highest). For example:\n",
    "```\n",
    "0123\n",
    "1234\n",
    "8765\n",
    "9876\n",
    "```\n",
    "Based on un-scorched scraps of the book, you determine that a good hiking trail is as long as possible and has an even, gradual, uphill slope. For all practical purposes, this means that a hiking trail is any path that starts at height 0, ends at height 9, and always increases by a height of exactly 1 at each step. Hiking trails never include diagonal steps - only up, down, left, or right (from the perspective of the map).\n",
    "\n",
    "You look up from the map and notice that the reindeer has helpfully begun to construct a small pile of pencils, markers, rulers, compasses, stickers, and other equipment you might need to update the map with hiking trails.\n",
    "\n",
    "A trailhead is any position that starts one or more hiking trails - here, these positions will always have height 0. Assembling more fragments of pages, you establish that a trailhead's score is the number of 9-height positions reachable from that trailhead via a hiking trail. In the above example, the single trailhead in the top left corner has a score of 1 because it can reach a single 9 (the one in the bottom left).\n",
    "\n",
    "This trailhead has a score of 2:\n",
    "```\n",
    "...0...\n",
    "...1...\n",
    "...2...\n",
    "6543456\n",
    "7.....7\n",
    "8.....8\n",
    "9.....9\n",
    "```\n",
    "(The positions marked . are impassable tiles to simplify these examples; they do not appear on your actual topographic map.)\n",
    "\n",
    "This trailhead has a score of 4 because every 9 is reachable via a hiking trail except the one immediately to the left of the trailhead:\n",
    "```\n",
    "..90..9\n",
    "...1.98\n",
    "...2..7\n",
    "6543456\n",
    "765.987\n",
    "876....\n",
    "987....\n",
    "```\n",
    "This topographic map contains two trailheads; the trailhead at the top has a score of 1, while the trailhead at the bottom has a score of 2:\n",
    "```\n",
    "10..9..\n",
    "2...8..\n",
    "3...7..\n",
    "4567654\n",
    "...8..3\n",
    "...9..2\n",
    ".....01\n",
    "```\n",
    "Here's a larger example:\n",
    "```\n",
    "89010123\n",
    "78121874\n",
    "87430965\n",
    "96549874\n",
    "45678903\n",
    "32019012\n",
    "01329801\n",
    "10456732\n",
    "```\n",
    "This larger example has 9 trailheads. Considering the trailheads in reading order, they have scores of 5, 6, 5, 3, 1, 3, 5, 3, and 5. Adding these scores together, the sum of the scores of all trailheads is 36.\n",
    "\n",
    "The reindeer gleefully carries over a protractor and adds it to the pile. What is the sum of the scores of all trailheads on your topographic map?\n",
    "\n"
   ]
  },
  {
   "cell_type": "code",
   "execution_count": 1,
   "id": "77d4f512-f549-46b8-abb6-3ffdd154d1ec",
   "metadata": {},
   "outputs": [],
   "source": [
    "from collections import deque"
   ]
  },
  {
   "cell_type": "code",
   "execution_count": 2,
   "id": "b4938206-bd93-4014-a839-f70f5f50add8",
   "metadata": {},
   "outputs": [],
   "source": [
    "with open('input.txt', 'r') as f:\n",
    "    file = f.read()"
   ]
  },
  {
   "cell_type": "code",
   "execution_count": 3,
   "id": "6daeed97-c267-462b-b310-0e8412ecd64c",
   "metadata": {},
   "outputs": [],
   "source": [
    "def parse_map(input_map):\n",
    "    return [[int(height) for height in row] for row in input_map.strip().split(\"\\n\")]"
   ]
  },
  {
   "cell_type": "code",
   "execution_count": 4,
   "id": "68c7d3f3-8e08-478f-b4f6-09dc27531dfc",
   "metadata": {},
   "outputs": [],
   "source": [
    "def find_trailheads(topomap):\n",
    "    trailheads = []\n",
    "    for r in range(len(topomap)):\n",
    "        for c in range(len(topomap[0])):\n",
    "            if topomap[r][c] == 0:\n",
    "                trailheads.append((r, c))\n",
    "    return trailheads"
   ]
  },
  {
   "cell_type": "code",
   "execution_count": 5,
   "id": "01a4c907-228f-4014-af21-d262155fa3c6",
   "metadata": {},
   "outputs": [],
   "source": [
    "def is_valid_move(topomap, r, c, prev_height):\n",
    "    return (\n",
    "        0 <= r < len(topomap) and\n",
    "        0 <= c < len(topomap[0]) and\n",
    "        topomap[r][c] == prev_height + 1\n",
    "    )\n"
   ]
  },
  {
   "cell_type": "code",
   "execution_count": 6,
   "id": "c81abe77-eeb7-43ad-8799-a8af00cbc938",
   "metadata": {},
   "outputs": [],
   "source": [
    "def bfs_score(topomap, start):\n",
    "    directions = [(-1, 0), (1, 0), (0, -1), (0, 1)]\n",
    "    queue = deque([start])\n",
    "    visited = set()\n",
    "    visited.add(start)\n",
    "    reachable_nines = set()\n",
    "\n",
    "    while queue:\n",
    "        r, c = queue.popleft()\n",
    "        current_height = topomap[r][c]\n",
    "\n",
    "        if current_height == 9:\n",
    "            reachable_nines.add((r, c))\n",
    "\n",
    "        for dr, dc in directions:\n",
    "            nr, nc = r + dr, c + dc\n",
    "            if is_valid_move(topomap, nr, nc, current_height) and (nr, nc) not in visited:\n",
    "                visited.add((nr, nc))\n",
    "                queue.append((nr, nc))\n",
    "\n",
    "    return len(reachable_nines)"
   ]
  },
  {
   "cell_type": "code",
   "execution_count": 7,
   "id": "b77a8732-85f4-4da3-b67c-41b2fb0677c3",
   "metadata": {},
   "outputs": [],
   "source": [
    "def calculate_trailhead_scores(input_map):\n",
    "    topomap = parse_map(input_map)\n",
    "    trailheads = find_trailheads(topomap)\n",
    "    total_score = 0\n",
    "\n",
    "    for trailhead in trailheads:\n",
    "        total_score += bfs_score(topomap, trailhead)\n",
    "\n",
    "    return total_score\n"
   ]
  },
  {
   "cell_type": "code",
   "execution_count": 8,
   "id": "9e20dc81-1579-48c5-b748-44acd165d393",
   "metadata": {},
   "outputs": [],
   "source": [
    "result = calculate_trailhead_scores(file)"
   ]
  },
  {
   "cell_type": "code",
   "execution_count": 9,
   "id": "7e3402ba-211f-4631-ac00-5d6ab5f9cb7d",
   "metadata": {},
   "outputs": [
    {
     "data": {
      "text/plain": [
       "638"
      ]
     },
     "execution_count": 9,
     "metadata": {},
     "output_type": "execute_result"
    }
   ],
   "source": [
    "result"
   ]
  },
  {
   "cell_type": "markdown",
   "id": "de0c6efc-f22a-41f1-9ed7-66f82238a788",
   "metadata": {},
   "source": [
    "That's the right answer! You are one gold star closer to finding the Chief Historian."
   ]
  },
  {
   "cell_type": "markdown",
   "id": "df70a4c3-f20f-4419-8f81-0361da91a6c6",
   "metadata": {},
   "source": [
    "--- Part Two ---\n",
    "\n",
    "The reindeer spends a few minutes reviewing your hiking trail map before realizing something, disappearing for a few minutes, and finally returning with yet another slightly-charred piece of paper.\n",
    "\n",
    "The paper describes a second way to measure a trailhead called its rating. A trailhead's rating is the number of distinct hiking trails which begin at that trailhead. For example:\n",
    "```\n",
    ".....0.\n",
    "..4321.\n",
    "..5..2.\n",
    "..6543.\n",
    "..7..4.\n",
    "..8765.\n",
    "..9....\n",
    "```\n",
    "The above map has a single trailhead; its rating is 3 because there are exactly three distinct hiking trails which begin at that position:\n",
    "```\n",
    ".....0.   .....0.   .....0.\n",
    "..4321.   .....1.   .....1.\n",
    "..5....   .....2.   .....2.\n",
    "..6....   ..6543.   .....3.\n",
    "..7....   ..7....   .....4.\n",
    "..8....   ..8....   ..8765.\n",
    "..9....   ..9....   ..9....\n",
    "```\n",
    "Here is a map containing a single trailhead with rating 13:\n",
    "```\n",
    "..90..9\n",
    "...1.98\n",
    "...2..7\n",
    "6543456\n",
    "765.987\n",
    "876....\n",
    "987....\n",
    "```\n",
    "This map contains a single trailhead with rating 227 (because there are 121 distinct hiking trails that lead to the 9 on the right edge and 106 that lead to the 9 on the bottom edge):\n",
    "```\n",
    "012345\n",
    "123456\n",
    "234567\n",
    "345678\n",
    "4.6789\n",
    "56789.\n",
    "```\n",
    "Here's the larger example from before:\n",
    "```\n",
    "89010123\n",
    "78121874\n",
    "87430965\n",
    "96549874\n",
    "45678903\n",
    "32019012\n",
    "01329801\n",
    "10456732\n",
    "```\n",
    "Considering its trailheads in reading order, they have ratings of 20, 24, 10, 4, 1, 4, 5, 8, and 5. The sum of all trailhead ratings in this larger example topographic map is 81.\n",
    "\n",
    "You're not sure how, but the reindeer seems to have crafted some tiny flags out of toothpicks and bits of paper and is using them to mark trailheads on your topographic map. What is the sum of the ratings of all trailheads?"
   ]
  },
  {
   "cell_type": "code",
   "execution_count": 10,
   "id": "c84c36b1-f82a-466b-b6fc-116e47659742",
   "metadata": {},
   "outputs": [],
   "source": [
    "def dfs_paths_count(topomap, start):\n",
    "    directions = [(-1, 0), (1, 0), (0, -1), (0, 1)]\n",
    "    stack = [(start, [start])]\n",
    "    visited_paths = set()\n",
    "\n",
    "    while stack:\n",
    "        (r, c), path = stack.pop()\n",
    "        current_height = topomap[r][c]\n",
    "\n",
    "        if current_height == 9:\n",
    "            visited_paths.add(tuple(path))\n",
    "            continue\n",
    "\n",
    "        for dr, dc in directions:\n",
    "            nr, nc = r + dr, c + dc\n",
    "            if is_valid_move(topomap, nr, nc, current_height) and (nr, nc) not in path:\n",
    "                stack.append(((nr, nc), path + [(nr, nc)]))\n",
    "\n",
    "    return len(visited_paths)"
   ]
  },
  {
   "cell_type": "code",
   "execution_count": 11,
   "id": "67024e7b-ecf0-4dda-8f53-b57a6254780e",
   "metadata": {},
   "outputs": [],
   "source": [
    "def calculate_trailhead_ratings(input_map):\n",
    "    topomap = parse_map(input_map)\n",
    "    trailheads = find_trailheads(topomap)\n",
    "    total_rating = 0\n",
    "\n",
    "    for trailhead in trailheads:\n",
    "        total_rating += dfs_paths_count(topomap, trailhead)\n",
    "\n",
    "    return total_rating"
   ]
  },
  {
   "cell_type": "code",
   "execution_count": 12,
   "id": "c6186b4b-1b8c-49aa-a700-2cfd618dfbc6",
   "metadata": {},
   "outputs": [],
   "source": [
    "result = calculate_trailhead_ratings(file)"
   ]
  },
  {
   "cell_type": "code",
   "execution_count": 13,
   "id": "8a0bdef1-88e4-430a-8530-1ec159b23519",
   "metadata": {},
   "outputs": [
    {
     "data": {
      "text/plain": [
       "1289"
      ]
     },
     "execution_count": 13,
     "metadata": {},
     "output_type": "execute_result"
    }
   ],
   "source": [
    "result"
   ]
  },
  {
   "cell_type": "markdown",
   "id": "6734d4ba-5fb8-4501-b215-975db0dc6694",
   "metadata": {},
   "source": [
    "That's the right answer! You are one gold star closer to finding the Chief Historian."
   ]
  }
 ],
 "metadata": {
  "kernelspec": {
   "display_name": "Python 3 (ipykernel)",
   "language": "python",
   "name": "python3"
  },
  "language_info": {
   "codemirror_mode": {
    "name": "ipython",
    "version": 3
   },
   "file_extension": ".py",
   "mimetype": "text/x-python",
   "name": "python",
   "nbconvert_exporter": "python",
   "pygments_lexer": "ipython3",
   "version": "3.11.5"
  }
 },
 "nbformat": 4,
 "nbformat_minor": 5
}
