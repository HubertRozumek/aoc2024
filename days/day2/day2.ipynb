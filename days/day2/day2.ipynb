{
 "cells": [
  {
   "cell_type": "markdown",
   "id": "11c216b0-f627-48db-ad9b-2fbe0f27641e",
   "metadata": {},
   "source": [
    "Fortunately, the first location The Historians want to search isn't a long walk from the Chief Historian's office.\n",
    "\n",
    "While the Red-Nosed Reindeer nuclear fusion/fission plant appears to contain no sign of the Chief Historian, the engineers there run up to you as soon as they see you. Apparently, they still talk about the time Rudolph was saved through molecular synthesis from a single electron.\n",
    "\n",
    "They're quick to add that - since you're already here - they'd really appreciate your help analyzing some unusual data from the Red-Nosed reactor. You turn to check if The Historians are waiting for you, but they seem to have already divided into groups that are currently searching every corner of the facility. You offer to help with the unusual data.\n",
    "\n",
    "The unusual data (your puzzle input) consists of many reports, one report per line. Each report is a list of numbers called levels that are separated by spaces. For example:\n",
    "```\n",
    "7 6 4 2 1\n",
    "1 2 7 8 9\n",
    "9 7 6 2 1\n",
    "1 3 2 4 5\n",
    "8 6 4 4 1\n",
    "1 3 6 7 9\n",
    "```\n",
    "This example data contains six reports each containing five levels.\n",
    "\n",
    "The engineers are trying to figure out which reports are safe. The Red-Nosed reactor safety systems can only tolerate levels that are either gradually increasing or gradually decreasing. So, a report only counts as safe if both of the following are true:\n",
    "\n",
    "The levels are either all increasing or all decreasing.\n",
    "Any two adjacent levels differ by at least one and at most three.\n",
    "In the example above, the reports can be found safe or unsafe by checking those rules:\n",
    "```\n",
    "7 6 4 2 1: Safe because the levels are all decreasing by 1 or 2.\n",
    "1 2 7 8 9: Unsafe because 2 7 is an increase of 5.\n",
    "9 7 6 2 1: Unsafe because 6 2 is a decrease of 4.\n",
    "1 3 2 4 5: Unsafe because 1 3 is increasing but 3 2 is decreasing.\n",
    "8 6 4 4 1: Unsafe because 4 4 is neither an increase or a decrease.\n",
    "1 3 6 7 9: Safe because the levels are all increasing by 1, 2, or 3.\n",
    "So, in this example, 2 reports are safe.\n",
    "```"
   ]
  },
  {
   "cell_type": "code",
   "execution_count": 1,
   "id": "c2cbd5cd-fb93-4fe6-b9b8-f077abd53180",
   "metadata": {},
   "outputs": [],
   "source": [
    "import numpy as np\n",
    "from collections import Counter"
   ]
  },
  {
   "cell_type": "code",
   "execution_count": 2,
   "id": "2dac3e32-4337-4246-b5d9-7cf7cb161dda",
   "metadata": {},
   "outputs": [],
   "source": [
    "with open(\"input.txt\", 'r') as f:\n",
    "    file = f.read().splitlines()\n",
    "\n",
    "lines = [line.split() for line in file]\n",
    "data = [list(map(int, line)) for line in lines]"
   ]
  },
  {
   "cell_type": "code",
   "execution_count": 3,
   "id": "6cdd07e9-6bbc-4d5f-b9b6-44197dd62244",
   "metadata": {},
   "outputs": [],
   "source": [
    "def increasing_or_decreasing(raport):        \n",
    "        if raport[1] > raport[0]:\n",
    "            return 'increasing'\n",
    "        elif raport[1] < raport[0]:\n",
    "            return 'decreasing'\n",
    "        else:\n",
    "            return 'Unsafe'\n",
    "\n",
    "def is_safe(raport):\n",
    "    trend = increasing_or_decreasing(raport)\n",
    "\n",
    "    if trend == 'Unsafe':\n",
    "        return False\n",
    "    \n",
    "    differences = (\n",
    "       (raport[i+1] - raport[i]) if trend == 'increasing' else (raport[i] - raport[i+1]) for i in range(len(raport)-1)\n",
    "    )\n",
    "    return all(1 <= diff <= 3 for diff in differences )"
   ]
  },
  {
   "cell_type": "code",
   "execution_count": 4,
   "id": "7b563fcb-f226-4600-beaa-7a6a2edc9600",
   "metadata": {},
   "outputs": [
    {
     "name": "stdout",
     "output_type": "stream",
     "text": [
      "314\n"
     ]
    }
   ],
   "source": [
    "result = [is_safe(raport) for raport in data]\n",
    "print(Counter(result)[True])# That's the right answer!"
   ]
  },
  {
   "cell_type": "markdown",
   "id": "4d2c41b8-f698-49e0-908a-e3b2f0a38e1b",
   "metadata": {},
   "source": [
    "--- Part Two ---\n",
    "\n",
    "The engineers are surprised by the low number of safe reports until they realize they forgot to tell you about the Problem Dampener.\n",
    "\n",
    "The Problem Dampener is a reactor-mounted module that lets the reactor safety systems tolerate a single bad level in what would otherwise be a safe report. It's like the bad level never happened!\n",
    "\n",
    "Now, the same rules apply as before, except if removing a single level from an unsafe report would make it safe, the report instead counts as safe.\n",
    "\n",
    "More of the above example's reports are now safe:\n",
    "```\n",
    "7 6 4 2 1: Safe without removing any level.\n",
    "1 2 7 8 9: Unsafe regardless of which level is removed.\n",
    "9 7 6 2 1: Unsafe regardless of which level is removed.\n",
    "1 3 2 4 5: Safe by removing the second level, 3.\n",
    "8 6 4 4 1: Safe by removing the third level, 4.\n",
    "1 3 6 7 9: Safe without removing any level.\n",
    "Thanks to the Problem Dampener, 4 reports are actually safe!\n",
    "```\n",
    "Update your analysis by handling situations where the Problem Dampener can remove a single level from unsafe reports. How many reports are now safe?\n"
   ]
  },
  {
   "cell_type": "code",
   "execution_count": 5,
   "id": "65879816-e52c-4518-b90e-046e7f6352d7",
   "metadata": {},
   "outputs": [],
   "source": [
    "def is_safe_part_two(raport):\n",
    "    if is_safe(raport):\n",
    "        return True\n",
    "    \n",
    "    for i in range(len(raport)):\n",
    "        modified_raport = raport[:i] + raport[i+1:]\n",
    "        if is_safe(modified_raport):\n",
    "            return True\n",
    "    return False"
   ]
  },
  {
   "cell_type": "code",
   "execution_count": 6,
   "id": "35a35da7-8d7e-43f0-ad5d-18e2bd93713a",
   "metadata": {},
   "outputs": [
    {
     "name": "stdout",
     "output_type": "stream",
     "text": [
      "373\n"
     ]
    }
   ],
   "source": [
    "result = [is_safe_part_two(raport) for raport in data]\n",
    "print(Counter(result)[True])# That's the right answer!"
   ]
  }
 ],
 "metadata": {
  "kernelspec": {
   "display_name": "Python 3 (ipykernel)",
   "language": "python",
   "name": "python3"
  },
  "language_info": {
   "codemirror_mode": {
    "name": "ipython",
    "version": 3
   },
   "file_extension": ".py",
   "mimetype": "text/x-python",
   "name": "python",
   "nbconvert_exporter": "python",
   "pygments_lexer": "ipython3",
   "version": "3.11.5"
  }
 },
 "nbformat": 4,
 "nbformat_minor": 5
}
